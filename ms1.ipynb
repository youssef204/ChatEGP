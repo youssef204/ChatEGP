{
  "nbformat": 4,
  "nbformat_minor": 0,
  "metadata": {
    "colab": {
      "provenance": [],
      "authorship_tag": "ABX9TyOU1C/nqQFupDWS/OynuHla",
      "include_colab_link": true
    },
    "kernelspec": {
      "name": "python3",
      "display_name": "Python 3"
    },
    "language_info": {
      "name": "python"
    }
  },
  "cells": [
    {
      "cell_type": "markdown",
      "metadata": {
        "id": "view-in-github",
        "colab_type": "text"
      },
      "source": [
        "<a href=\"https://colab.research.google.com/github/youssef204/ChatEGP/blob/main/ms1.ipynb\" target=\"_parent\"><img src=\"https://colab.research.google.com/assets/colab-badge.svg\" alt=\"Open In Colab\"/></a>"
      ]
    },
    {
      "cell_type": "markdown",
      "source": [
        "#**Imports**"
      ],
      "metadata": {
        "id": "uwQewOut3REc"
      }
    },
    {
      "cell_type": "code",
      "execution_count": 1,
      "metadata": {
        "id": "RC2jOEcXTeqD",
        "colab": {
          "base_uri": "https://localhost:8080/"
        },
        "outputId": "3591886b-06bb-4051-a08b-4b6a6376b575"
      },
      "outputs": [
        {
          "output_type": "stream",
          "name": "stderr",
          "text": [
            "[nltk_data] Downloading package stopwords to /root/nltk_data...\n",
            "[nltk_data]   Unzipping corpora/stopwords.zip.\n",
            "[nltk_data] Downloading package punkt to /root/nltk_data...\n",
            "[nltk_data]   Unzipping tokenizers/punkt.zip.\n"
          ]
        },
        {
          "output_type": "execute_result",
          "data": {
            "text/plain": [
              "True"
            ]
          },
          "metadata": {},
          "execution_count": 1
        }
      ],
      "source": [
        "import numpy as np\n",
        "import pandas as pd\n",
        "from nltk.corpus import stopwords\n",
        "import os\n",
        "import warnings\n",
        "import csv\n",
        "from textblob import TextBlob\n",
        "import re\n",
        "from nltk.stem.isri import ISRIStemmer\n",
        "import nltk\n",
        "nltk.download('stopwords')\n",
        "nltk.download('punkt')"
      ]
    },
    {
      "cell_type": "code",
      "source": [
        "from google.colab import drive\n",
        "drive.mount('/content/drive')"
      ],
      "metadata": {
        "colab": {
          "base_uri": "https://localhost:8080/"
        },
        "id": "-jT7NO_EM49K",
        "outputId": "3e402d5c-a5dd-4b1b-bd40-6d93b1b0e89c"
      },
      "execution_count": 5,
      "outputs": [
        {
          "output_type": "stream",
          "name": "stdout",
          "text": [
            "Mounted at /content/drive\n"
          ]
        }
      ]
    },
    {
      "cell_type": "code",
      "source": [
        "corpus_root = '/content'\n",
        "corpus = PlaintextCorpusReader(corpus_root, '.*.txt')\n",
        "corpus.fileids()"
      ],
      "metadata": {
        "id": "65tzhKR3Y_KW"
      },
      "execution_count": null,
      "outputs": []
    },
    {
      "cell_type": "code",
      "source": [
        "corpus.root"
      ],
      "metadata": {
        "colab": {
          "base_uri": "https://localhost:8080/",
          "height": 34
        },
        "id": "E4tvXmpyZIV5",
        "outputId": "dc92364f-0337-444f-bf29-56651b0610a6"
      },
      "execution_count": null,
      "outputs": [
        {
          "output_type": "execute_result",
          "data": {
            "text/plain": [
              "FileSystemPathPointer('/content')"
            ],
            "application/vnd.google.colaboratory.intrinsic+json": {
              "type": "string"
            }
          },
          "metadata": {},
          "execution_count": 11
        }
      ]
    },
    {
      "cell_type": "code",
      "source": [
        "wordslist = corpus.words('0001.txt')"
      ],
      "metadata": {
        "id": "VNWv6HE6ZqT7"
      },
      "execution_count": null,
      "outputs": []
    },
    {
      "cell_type": "code",
      "source": [
        "print(wordslist)"
      ],
      "metadata": {
        "colab": {
          "base_uri": "https://localhost:8080/"
        },
        "id": "aF6W6qA5aQRo",
        "outputId": "8f5d9743-b7aa-4b4d-a854-4accfa261e1d"
      },
      "execution_count": null,
      "outputs": [
        {
          "output_type": "stream",
          "name": "stdout",
          "text": [
            "['عكست', 'كافة', 'أسواق', 'المنطقة', 'تقريبا', 'ً', ...]\n"
          ]
        }
      ]
    },
    {
      "cell_type": "code",
      "source": [
        "import glob\n",
        "with open('my_file.csv', 'a', newline='') as csv_file:\n",
        "    #csv_file.write('files')\n",
        "    for path in glob.glob('/content/*.txt'):\n",
        "        with open(path) as txt_file:\n",
        "            txt = txt_file.read() + '\\n'\n",
        "            csv_file.write(txt)"
      ],
      "metadata": {
        "id": "1gIhl-wfa4WC"
      },
      "execution_count": null,
      "outputs": []
    },
    {
      "cell_type": "code",
      "source": [
        "df = pd.read_csv(\"my_file.csv\",on_bad_lines='skip')"
      ],
      "metadata": {
        "id": "yjmQ_pKVdOGM"
      },
      "execution_count": null,
      "outputs": []
    },
    {
      "cell_type": "code",
      "source": [
        "df.head()"
      ],
      "metadata": {
        "colab": {
          "base_uri": "https://localhost:8080/",
          "height": 267
        },
        "id": "yasqgAgUdRMf",
        "outputId": "6c8ddd31-a6df-47cd-f1c4-0404cfced57b"
      },
      "execution_count": null,
      "outputs": [
        {
          "output_type": "execute_result",
          "data": {
            "text/plain": [
              "  ينظم معهد حوكمة الشركات حوكمة ومقره مركز دبي المالي العالمي ولجنة التمويل الإسلامي في رابطة المحامين الأمريكية ندوة في دبي في الرابع من الشهر المقبل حول الأوضاع الراهنة والآفاق المستقبلية للتمويل الإسلامي .ويشارك في الندوة التي تعقد في مركز دبي المالي العالمي مجموعة من الفقهاء والمصرفيين والمحامين والمختصين القانونيين في مجال التمويل الإسلامي .\n",
              "0  أبوظبي: الخليج صعد مؤشر سوق أبوظبي للأوراق الم...                                                                                                                                                                                                                                                                                                        \n",
              "1  قاد سهم إعمار صعوداً قوياً لأسواق الأسهم المحل...                                                                                                                                                                                                                                                                                                        \n",
              "2  أبوظبي «الخليج»: ارتفع مؤشر سوق الإمارات المال...                                                                                                                                                                                                                                                                                                        \n",
              "3  أبلغ بنك دبي الإسلامي سوق دبي المالي بأن اجتما...                                                                                                                                                                                                                                                                                                        \n",
              "4  أعلنت هيئة الأوراق المالية والسلع أنه استناداً...                                                                                                                                                                                                                                                                                                        "
            ],
            "text/html": [
              "\n",
              "  <div id=\"df-3dca9e49-6d7a-4ccc-a516-4f4d246b38c7\">\n",
              "    <div class=\"colab-df-container\">\n",
              "      <div>\n",
              "<style scoped>\n",
              "    .dataframe tbody tr th:only-of-type {\n",
              "        vertical-align: middle;\n",
              "    }\n",
              "\n",
              "    .dataframe tbody tr th {\n",
              "        vertical-align: top;\n",
              "    }\n",
              "\n",
              "    .dataframe thead th {\n",
              "        text-align: right;\n",
              "    }\n",
              "</style>\n",
              "<table border=\"1\" class=\"dataframe\">\n",
              "  <thead>\n",
              "    <tr style=\"text-align: right;\">\n",
              "      <th></th>\n",
              "      <th>ينظم معهد حوكمة الشركات حوكمة ومقره مركز دبي المالي العالمي ولجنة التمويل الإسلامي في رابطة المحامين الأمريكية ندوة في دبي في الرابع من الشهر المقبل حول الأوضاع الراهنة والآفاق المستقبلية للتمويل الإسلامي .ويشارك في الندوة التي تعقد في مركز دبي المالي العالمي مجموعة من الفقهاء والمصرفيين والمحامين والمختصين القانونيين في مجال التمويل الإسلامي .</th>\n",
              "    </tr>\n",
              "  </thead>\n",
              "  <tbody>\n",
              "    <tr>\n",
              "      <th>0</th>\n",
              "      <td>أبوظبي: الخليج صعد مؤشر سوق أبوظبي للأوراق الم...</td>\n",
              "    </tr>\n",
              "    <tr>\n",
              "      <th>1</th>\n",
              "      <td>قاد سهم إعمار صعوداً قوياً لأسواق الأسهم المحل...</td>\n",
              "    </tr>\n",
              "    <tr>\n",
              "      <th>2</th>\n",
              "      <td>أبوظبي «الخليج»: ارتفع مؤشر سوق الإمارات المال...</td>\n",
              "    </tr>\n",
              "    <tr>\n",
              "      <th>3</th>\n",
              "      <td>أبلغ بنك دبي الإسلامي سوق دبي المالي بأن اجتما...</td>\n",
              "    </tr>\n",
              "    <tr>\n",
              "      <th>4</th>\n",
              "      <td>أعلنت هيئة الأوراق المالية والسلع أنه استناداً...</td>\n",
              "    </tr>\n",
              "  </tbody>\n",
              "</table>\n",
              "</div>\n",
              "      <button class=\"colab-df-convert\" onclick=\"convertToInteractive('df-3dca9e49-6d7a-4ccc-a516-4f4d246b38c7')\"\n",
              "              title=\"Convert this dataframe to an interactive table.\"\n",
              "              style=\"display:none;\">\n",
              "        \n",
              "  <svg xmlns=\"http://www.w3.org/2000/svg\" height=\"24px\"viewBox=\"0 0 24 24\"\n",
              "       width=\"24px\">\n",
              "    <path d=\"M0 0h24v24H0V0z\" fill=\"none\"/>\n",
              "    <path d=\"M18.56 5.44l.94 2.06.94-2.06 2.06-.94-2.06-.94-.94-2.06-.94 2.06-2.06.94zm-11 1L8.5 8.5l.94-2.06 2.06-.94-2.06-.94L8.5 2.5l-.94 2.06-2.06.94zm10 10l.94 2.06.94-2.06 2.06-.94-2.06-.94-.94-2.06-.94 2.06-2.06.94z\"/><path d=\"M17.41 7.96l-1.37-1.37c-.4-.4-.92-.59-1.43-.59-.52 0-1.04.2-1.43.59L10.3 9.45l-7.72 7.72c-.78.78-.78 2.05 0 2.83L4 21.41c.39.39.9.59 1.41.59.51 0 1.02-.2 1.41-.59l7.78-7.78 2.81-2.81c.8-.78.8-2.07 0-2.86zM5.41 20L4 18.59l7.72-7.72 1.47 1.35L5.41 20z\"/>\n",
              "  </svg>\n",
              "      </button>\n",
              "      \n",
              "  <style>\n",
              "    .colab-df-container {\n",
              "      display:flex;\n",
              "      flex-wrap:wrap;\n",
              "      gap: 12px;\n",
              "    }\n",
              "\n",
              "    .colab-df-convert {\n",
              "      background-color: #E8F0FE;\n",
              "      border: none;\n",
              "      border-radius: 50%;\n",
              "      cursor: pointer;\n",
              "      display: none;\n",
              "      fill: #1967D2;\n",
              "      height: 32px;\n",
              "      padding: 0 0 0 0;\n",
              "      width: 32px;\n",
              "    }\n",
              "\n",
              "    .colab-df-convert:hover {\n",
              "      background-color: #E2EBFA;\n",
              "      box-shadow: 0px 1px 2px rgba(60, 64, 67, 0.3), 0px 1px 3px 1px rgba(60, 64, 67, 0.15);\n",
              "      fill: #174EA6;\n",
              "    }\n",
              "\n",
              "    [theme=dark] .colab-df-convert {\n",
              "      background-color: #3B4455;\n",
              "      fill: #D2E3FC;\n",
              "    }\n",
              "\n",
              "    [theme=dark] .colab-df-convert:hover {\n",
              "      background-color: #434B5C;\n",
              "      box-shadow: 0px 1px 3px 1px rgba(0, 0, 0, 0.15);\n",
              "      filter: drop-shadow(0px 1px 2px rgba(0, 0, 0, 0.3));\n",
              "      fill: #FFFFFF;\n",
              "    }\n",
              "  </style>\n",
              "\n",
              "      <script>\n",
              "        const buttonEl =\n",
              "          document.querySelector('#df-3dca9e49-6d7a-4ccc-a516-4f4d246b38c7 button.colab-df-convert');\n",
              "        buttonEl.style.display =\n",
              "          google.colab.kernel.accessAllowed ? 'block' : 'none';\n",
              "\n",
              "        async function convertToInteractive(key) {\n",
              "          const element = document.querySelector('#df-3dca9e49-6d7a-4ccc-a516-4f4d246b38c7');\n",
              "          const dataTable =\n",
              "            await google.colab.kernel.invokeFunction('convertToInteractive',\n",
              "                                                     [key], {});\n",
              "          if (!dataTable) return;\n",
              "\n",
              "          const docLinkHtml = 'Like what you see? Visit the ' +\n",
              "            '<a target=\"_blank\" href=https://colab.research.google.com/notebooks/data_table.ipynb>data table notebook</a>'\n",
              "            + ' to learn more about interactive tables.';\n",
              "          element.innerHTML = '';\n",
              "          dataTable['output_type'] = 'display_data';\n",
              "          await google.colab.output.renderOutput(dataTable, element);\n",
              "          const docLink = document.createElement('div');\n",
              "          docLink.innerHTML = docLinkHtml;\n",
              "          element.appendChild(docLink);\n",
              "        }\n",
              "      </script>\n",
              "    </div>\n",
              "  </div>\n",
              "  "
            ]
          },
          "metadata": {},
          "execution_count": 42
        }
      ]
    },
    {
      "cell_type": "markdown",
      "source": [
        "# **Read files into CSV**\n",
        "\n",
        "---\n",
        "\n",
        "\n",
        "\n",
        "---\n",
        "\n"
      ],
      "metadata": {
        "id": "B1Y4MV-M3nzv"
      }
    },
    {
      "cell_type": "code",
      "source": [
        "\n",
        "# Directory containing the text files to merge\n",
        "dir_path = '/content/drive/My Drive/Finance'\n",
        "\n",
        "# List of all the text files in the directory\n",
        "files = os.listdir(dir_path)\n",
        "print(files)\n",
        "\n",
        "# Open the CSV file for writing\n",
        "with open('merged_file.csv', 'w', newline='') as csvfile:\n",
        "    writer = csv.writer(csvfile)\n",
        "\n",
        "    # Write the header row to the CSV file\n",
        "    writer.writerow(['filename', 'content'])\n",
        "\n",
        "    # Iterate through all the text files in the directory\n",
        "    for file in files:\n",
        "        if file.endswith('.txt'):\n",
        "            # Open the text file for reading\n",
        "            with open(os.path.join(dir_path, file), 'r') as f:\n",
        "                content = f.read()\n",
        "                \n",
        "            # Write the filename and content to the CSV file\n",
        "            writer.writerow([file, content])\n",
        "\n",
        "# Close the CSV file\n",
        "csvfile.close()"
      ],
      "metadata": {
        "colab": {
          "base_uri": "https://localhost:8080/"
        },
        "id": "Do9J0H-zekAm",
        "outputId": "851a6ce9-c783-4a6c-fc35-a6fda05758c9"
      },
      "execution_count": 11,
      "outputs": [
        {
          "output_type": "stream",
          "name": "stdout",
          "text": [
            "['4506.txt', '3513.txt', '0711.txt', '3694.txt', '0648.txt', '4050.txt', '1822.txt', '3276.txt', '4455.txt', '5487.txt', '3854.txt', '0452.txt', '2009.txt', '6128.txt', '2963.txt', '0991.txt', '3463.txt', '1938.txt', '0193.txt', '1361.txt', '0564.txt', '4593.txt', '4260.txt', '5119.txt', '2585.txt', '1489.txt', '0965.txt', '3947.txt', '4287.txt', '0497.txt', '4864.txt', '4637.txt', '1215.txt', '6189.txt', '1122.txt', '4805.txt', '0195.txt', '2538.txt', '5712.txt', '4839.txt', '5687.txt', '5093.txt', '2694.txt', '4515.txt', '2751.txt', '1092.txt', '2763.txt', '0720.txt', '2470.txt', '3994.txt', '3876.txt', '3804.txt', '5429.txt', '1815.txt', '0435.txt', '4916.txt', '3417.txt', '4427.txt', '2777.txt', '5518.txt', '3682.txt', '5032.txt', '1765.txt', '6090.txt', '1127.txt', '5517.txt', '5219.txt', '2601.txt', '6331.txt', '6407.txt', '1848.txt', '4389.txt', '6422.txt', '2322.txt', '2983.txt', '5277.txt', '1091.txt', '1028.txt', '4000.txt', '1162.txt', '1644.txt', '2080.txt', '2919.txt', '2700.txt', '2450.txt', '3869.txt', '1606.txt', '2600.txt', '3142.txt', '4512.txt', '6274.txt', '5323.txt', '0741.txt', '1869.txt', '0747.txt', '6300.txt', '4706.txt', '4800.txt', '4726.txt', '4840.txt', '5959.txt', '4930.txt', '4727.txt', '4337.txt', '4990.txt', '4322.txt', '5151.txt', '5778.txt', '6378.txt', '6016.txt', '6121.txt', '6136.txt', '5937.txt', '6043.txt', '6472.txt', '4722.txt', '4775.txt', '5317.txt', '5606.txt', '6308.txt', '6245.txt', '4422.txt', '5726.txt', '4442.txt', '6172.txt', '5442.txt', '6167.txt', '5661.txt', '6165.txt', '4957.txt', '5329.txt', '5313.txt', '4913.txt', '5597.txt', '4925.txt', '5117.txt', '5931.txt', '6161.txt', '5242.txt', '5520.txt', '6116.txt', '5255.txt', '5892.txt', '4943.txt', '5085.txt', '4314.txt', '5207.txt', '5991.txt', '5722.txt', '4816.txt', '5530.txt', '5421.txt', '5919.txt', '5428.txt', '5873.txt', '6478.txt', '5232.txt', '4912.txt', '4458.txt', '6211.txt', '4448.txt', '5366.txt', '6272.txt', '6215.txt', '4290.txt', '5829.txt', '4618.txt', '5155.txt', '6450.txt', '6254.txt', '4661.txt', '4980.txt', '6228.txt', '5528.txt', '4363.txt', '6083.txt', '6150.txt', '5939.txt', '5491.txt', '6280.txt', '4341.txt', '6064.txt', '5180.txt', '4634.txt', '5224.txt', '5464.txt', '6395.txt', '5441.txt', '5748.txt', '4999.txt', '5039.txt', '5140.txt', '4695.txt', '4861.txt', '6133.txt', '6379.txt', '4723.txt', '5154.txt', '6120.txt', '6392.txt', '6126.txt', '5418.txt', '6440.txt', '6079.txt', '4889.txt', '5858.txt', '5746.txt', '4657.txt', '6457.txt', '4680.txt', '5324.txt', '6153.txt', '6327.txt', '4410.txt', '6195.txt', '6058.txt', '5882.txt', '5260.txt', '5040.txt', '5357.txt', '6123.txt', '5128.txt', '5202.txt', '4787.txt', '5353.txt', '5146.txt', '6471.txt', '4846.txt', '6345.txt', '6452.txt', '6114.txt', '5969.txt', '6238.txt', '6106.txt', '6248.txt', '5100.txt', '4838.txt', '4835.txt', '6456.txt', '4351.txt', '4631.txt', '4550.txt', '6402.txt', '4807.txt', '5106.txt', '5451.txt', '4993.txt', '4702.txt', '4977.txt', '6139.txt', '6032.txt', '5962.txt', '5236.txt', '4843.txt', '4496.txt', '6396.txt', '6276.txt', '6129.txt', '6156.txt', '6235.txt', '4452.txt', '4778.txt', '5141.txt', '5404.txt', '6050.txt', '4956.txt', '5660.txt', '5827.txt', '5817.txt', '5630.txt', '4824.txt', '6448.txt', '5655.txt', '6030.txt', '5813.txt', '6317.txt', '6386.txt', '4401.txt', '5000.txt', '4622.txt', '5835.txt', '5289.txt', '6499.txt', '5359.txt', '5409.txt', '5582.txt', '5439.txt', '4790.txt', '6102.txt', '5450.txt', '6229.txt', '5118.txt', '4939.txt', '5800.txt', '4298.txt', '6463.txt', '5148.txt', '5066.txt', '6145.txt', '6231.txt', '6258.txt', '5415.txt', '5162.txt', '5767.txt', '6184.txt', '6453.txt', '6330.txt', '5888.txt', '6312.txt', '5430.txt', '5179.txt', '4819.txt', '5486.txt', '5938.txt', '6498.txt', '5298.txt', '4457.txt', '5013.txt', '4408.txt', '5656.txt', '4520.txt', '5806.txt', '6125.txt', '6152.txt', '5112.txt', '5992.txt', '6049.txt', '4654.txt', '5042.txt', '4647.txt', '4492.txt', '6095.txt', '4584.txt', '5248.txt', '5832.txt', '5392.txt', '6001.txt', '6419.txt', '5608.txt', '6433.txt', '5782.txt', '4585.txt', '5136.txt', '6040.txt', '6411.txt', '4319.txt', '5700.txt', '4489.txt', '5541.txt', '5380.txt', '5403.txt', '6465.txt', '5974.txt', '6199.txt', '5593.txt', '5010.txt', '4710.txt', '5566.txt', '5458.txt', '5607.txt', '5903.txt', '6442.txt', '5571.txt', '5423.txt', '5438.txt', '5739.txt', '6421.txt', '4379.txt', '5072.txt', '6118.txt', '4468.txt', '6281.txt', '5758.txt', '4521.txt', '5820.txt', '4998.txt', '5191.txt', '6416.txt', '5301.txt', '5627.txt', '4323.txt', '6481.txt', '5157.txt', '5989.txt', '4952.txt', '6239.txt', '6144.txt', '6246.txt', '5096.txt', '4942.txt', '5924.txt', '5562.txt', '5808.txt', '6104.txt', '5201.txt', '5629.txt', '6338.txt', '5708.txt', '5862.txt', '5463.txt', '4781.txt', '5674.txt', '5831.txt', '4806.txt', '5078.txt', '6191.txt', '5206.txt', '5027.txt', '5635.txt', '4626.txt', '5634.txt', '5709.txt', '5756.txt', '4464.txt', '5015.txt', '6366.txt', '6107.txt', '5339.txt', '5048.txt', '4479.txt', '6423.txt', '5267.txt', '4485.txt', '4555.txt', '5836.txt', '5703.txt', '5176.txt', '5227.txt', '5480.txt', '5586.txt', '5495.txt', '6476.txt', '4882.txt', '5853.txt', '5516.txt', '4349.txt', '6224.txt', '5037.txt', '6302.txt', '5413.txt', '5798.txt', '6486.txt', '5344.txt', '5003.txt', '6365.txt', '5735.txt', '4334.txt', '4749.txt', '4370.txt', '4973.txt', '5448.txt', '4979.txt', '5139.txt', '6243.txt', '4965.txt', '4544.txt', '5169.txt', '6005.txt', '5286.txt', '5271.txt', '6291.txt', '6285.txt', '6265.txt', '4904.txt', '5799.txt', '4318.txt', '6405.txt', '6042.txt', '5338.txt', '5290.txt', '6071.txt', '5391.txt', '6041.txt', '4802.txt', '5076.txt', '5481.txt', '5543.txt', '5370.txt', '6372.txt', '5957.txt', '4599.txt', '6244.txt', '5925.txt', '4446.txt', '4283.txt', '5751.txt', '5527.txt', '5902.txt', '5070.txt', '6147.txt', '4983.txt', '5621.txt', '4498.txt', '4886.txt', '5036.txt', '5993.txt', '5946.txt', '4686.txt', '4292.txt', '6162.txt', '5920.txt', '4414.txt', '4556.txt', '5762.txt', '5995.txt', '6497.txt', '4470.txt', '5684.txt', '6076.txt', '4655.txt', '4703.txt', '5071.txt', '5226.txt', '4321.txt', '4769.txt', '4855.txt', '6279.txt', '4733.txt', '4792.txt', '4364.txt', '5740.txt', '5342.txt', '4883.txt', '4561.txt', '5322.txt', '5558.txt', '5388.txt', '5049.txt', '5410.txt', '4827.txt', '6230.txt', '5848.txt', '5840.txt', '5600.txt', '4642.txt', '6072.txt', '5642.txt', '5854.txt', '5476.txt', '5643.txt', '5811.txt', '5143.txt', '5693.txt', '4994.txt', '5710.txt', '4978.txt', '6434.txt', '6435.txt', '4828.txt', '5005.txt', '5760.txt', '5124.txt', '4579.txt', '5479.txt', '5736.txt', '4272.txt', '6112.txt', '4875.txt', '5186.txt', '6221.txt', '5787.txt', '4825.txt', '5432.txt', '5228.txt', '5443.txt', '4596.txt', '4985.txt', '4935.txt', '4299.txt', '4865.txt', '4424.txt', '6384.txt', '5412.txt', '5065.txt', '4383.txt', '5433.txt', '4399.txt', '4371.txt', '4730.txt', '4954.txt', '4967.txt', '5461.txt', '5445.txt', '6202.txt', '5639.txt', '6075.txt', '5369.txt', '5246.txt', '5230.txt', '5311.txt', '6187.txt', '4794.txt', '6484.txt', '4376.txt', '4705.txt', '5886.txt', '5287.txt', '5846.txt', '6086.txt', '4477.txt', '6414.txt', '6023.txt', '4679.txt', '4378.txt', '5539.txt', '5861.txt', '5927.txt', '5768.txt', '5256.txt', '6119.txt', '5024.txt', '5509.txt', '4500.txt', '4303.txt', '4755.txt', '6342.txt', '4605.txt', '4583.txt', '5316.txt', '4494.txt', '4502.txt', '6012.txt', '5002.txt', '4524.txt', '4820.txt', '5958.txt', '5512.txt', '5218.txt', '4560.txt', '6234.txt', '4301.txt', '4308.txt', '5120.txt', '6247.txt', '5549.txt', '5666.txt', '5281.txt', '4532.txt', '4420.txt', '4296.txt', '5686.txt', '4511.txt', '5345.txt', '6314.txt', '6432.txt', '5653.txt', '4852.txt', '6337.txt', '6157.txt', '5851.txt', '4901.txt', '6225.txt', '6124.txt', '4829.txt', '6492.txt', '4698.txt', '6309.txt', '6159.txt', '4331.txt', '5960.txt', '4312.txt', '5378.txt', '5275.txt', '4797.txt', '5932.txt', '5618.txt', '4563.txt', '6374.txt', '5789.txt', '5868.txt', '4917.txt', '5314.txt', '5348.txt', '4310.txt', '5793.txt', '6361.txt', '6403.txt', '5019.txt', '4910.txt', '5574.txt', '6485.txt', '6117.txt', '6257.txt', '5599.txt', '4472.txt', '5804.txt', '5821.txt', '5632.txt', '5507.txt', '5405.txt', '6436.txt', '4293.txt', '5771.txt', '5665.txt', '4877.txt', '6155.txt', '6373.txt', '4517.txt', '5382.txt', '5018.txt', '5576.txt', '5764.txt', '5885.txt', '4895.txt', '5194.txt', '5626.txt', '4613.txt', '5855.txt', '5753.txt', '4366.txt', '5870.txt', '4739.txt', '6430.txt', '5856.txt', '5900.txt', '4767.txt', '5163.txt', '5346.txt', '4624.txt', '5788.txt', '5928.txt', '4425.txt', '5729.txt', '4594.txt', '5165.txt', '6275.txt', '6389.txt', '5356.txt', '4969.txt', '4812.txt', '4849.txt', '6080.txt', '6288.txt', '4545.txt', '5087.txt', '5137.txt', '5747.txt', '5245.txt', '5895.txt', '5877.txt', '4430.txt', '6190.txt', '6494.txt', '4421.txt', '4513.txt', '6110.txt', '6113.txt', '5061.txt', '4713.txt', '5577.txt', '4597.txt', '5889.txt', '5579.txt', '4750.txt', '4538.txt', '6174.txt', '5952.txt', '4759.txt', '6459.txt', '4391.txt', '5994.txt', '4684.txt', '5295.txt', '6011.txt', '4582.txt', '5285.txt', '5020.txt', '4884.txt', '5645.txt', '4411.txt', '4407.txt', '4534.txt', '5497.txt', '5680.txt', '6318.txt', '5069.txt', '5976.txt', '5875.txt', '5253.txt', '6063.txt', '4721.txt', '4868.txt', '6242.txt', '4273.txt', '5841.txt', '4413.txt', '6441.txt', '6277.txt', '5554.txt', '6464.txt', '5745.txt', '5985.txt', '5852.txt', '6299.txt', '4614.txt', '4960.txt', '4900.txt', '4557.txt', '6364.txt', '5702.txt', '6424.txt', '5419.txt', '4306.txt', '5887.txt', '4523.txt', '5145.txt', '6391.txt', '5280.txt', '4836.txt', '4694.txt', '6358.txt', '6013.txt', '5773.txt', '6474.txt', '4878.txt', '5238.txt', '5765.txt', '5425.txt', '6183.txt', '4887.txt', '5943.txt', '6193.txt', '5077.txt', '5652.txt', '5910.txt', '5786.txt', '6253.txt', '4529.txt', '4751.txt', '4921.txt', '4830.txt', '4735.txt', '5396.txt', '4277.txt', '5834.txt', '4777.txt', '5550.txt', '6209.txt', '5559.txt', '5327.txt', '4369.txt', '5734.txt', '5006.txt', '6415.txt', '5894.txt', '5034.txt', '4602.txt', '4382.txt', '6268.txt', '5300.txt', '5394.txt', '4415.txt', '6048.txt', '6146.txt', '5387.txt', '5658.txt', '5500.txt', '4552.txt', '5129.txt', '5149.txt', '4359.txt', '5797.txt', '4687.txt', '5744.txt', '6044.txt', '4660.txt', '5265.txt', '4611.txt', '4329.txt', '4572.txt', '4898.txt', '4881.txt', '4763.txt', '4281.txt', '4426.txt', '4451.txt', '5022.txt', '5319.txt', '4644.txt', '5845.txt', '6212.txt', '5604.txt', '6455.txt', '4646.txt', '4970.txt', '5918.txt', '5088.txt', '5980.txt', '4372.txt', '4732.txt', '6088.txt', '5304.txt', '5075.txt', '4784.txt', '5719.txt', '4941.txt', '5009.txt', '4813.txt', '4764.txt', '5249.txt', '5564.txt', '6376.txt', '4586.txt', '6262.txt', '5738.txt', '4757.txt', '4890.txt', '5452.txt', '4295.txt', '5694.txt', '5074.txt', '6154.txt', '5628.txt', '4551.txt', '4944.txt', '6290.txt', '6109.txt', '6460.txt', '5774.txt', '4853.txt', '6226.txt', '4633.txt', '5454.txt', '4573.txt', '6377.txt', '5259.txt', '4789.txt', '5916.txt', '5484.txt', '5963.txt', '4450.txt', '5953.txt', '6065.txt', '5547.txt', '6400.txt', '5115.txt', '5911.txt', '4678.txt', '4307.txt', '4914.txt', '5127.txt', '5190.txt', '6413.txt', '5761.txt', '4783.txt', '5990.txt', '5857.txt', '4953.txt', '6451.txt', '5292.txt', '4832.txt', '4441.txt', '6371.txt', '4857.txt', '6343.txt', '6319.txt', '6439.txt', '5247.txt', '4996.txt', '5038.txt', '5849.txt', '4725.txt', '5229.txt', '5610.txt', '5814.txt', '6387.txt', '5501.txt', '6151.txt', '6196.txt', '5053.txt', '4418.txt', '5667.txt', '4324.txt', '4804.txt', '4445.txt', '5620.txt', '5130.txt', '6348.txt', '5083.txt', '5681.txt', '6316.txt', '4779.txt', '5763.txt', '4440.txt', '4268.txt', '6446.txt', '5568.txt', '5769.txt', '4356.txt', '5057.txt', '6132.txt', '5752.txt', '4682.txt', '4384.txt', '5308.txt', '5637.txt', '4958.txt', '6493.txt', '6301.txt', '5330.txt', '5869.txt', '4975.txt', '5945.txt', '6383.txt', '4436.txt', '6323.txt', '4888.txt', '4716.txt', '4673.txt', '4651.txt', '5908.txt', '4368.txt', '6092.txt', '5560.txt', '5299.txt', '5999.txt', '4380.txt', '6437.txt', '6208.txt', '4438.txt', '4554.txt', '5904.txt', '6138.txt', '5474.txt', '4474.txt', '4909.txt', '5567.txt', '5964.txt', '4339.txt', '4818.txt', '4381.txt', '5334.txt', '5923.txt', '5221.txt', '4610.txt', '5110.txt', '4788.txt', '6381.txt', '6294.txt', '5105.txt', '6054.txt', '5697.txt', '5349.txt', '4741.txt', '6094.txt', '6491.txt', '5305.txt', '4945.txt', '4280.txt', '4564.txt', '5373.txt', '6311.txt', '4311.txt', '6168.txt', '6176.txt', '5548.txt', '4862.txt', '4863.txt', '4459.txt', '5333.txt', '5175.txt', '5981.txt', '6037.txt', '5668.txt', '6188.txt', '4808.txt', '5818.txt', '4266.txt', '4362.txt', '5663.txt', '5131.txt', '5416.txt', '4539.txt', '6259.txt', '4826.txt', '4699.txt', '1458.txt', '0601.txt', '3421.txt', '3820.txt', '4018.txt', '3082.txt', '0777.txt', '4222.txt', '4949.txt', '5178.txt', '6286.txt', '5167.txt', '6394.txt', '6260.txt', '6173.txt', '5623.txt', '5026.txt', '4674.txt', '5636.txt', '5532.txt', '4635.txt', '4961.txt', '4811.txt', '6344.txt', '5731.txt', '5399.txt', '5160.txt', '5367.txt', '5622.txt', '4738.txt', '5770.txt', '6269.txt', '4858.txt', '5673.txt', '5779.txt', '6449.txt', '6324.txt', '4670.txt', '5596.txt', '4571.txt', '4948.txt', '4580.txt', '4907.txt', '4776.txt', '5505.txt', '6067.txt', '6057.txt', '6298.txt', '5860.txt', '4361.txt', '5293.txt', '5351.txt', '4428.txt', '5261.txt', '4397.txt', '4685.txt', '5741.txt', '5682.txt', '5215.txt', '5498.txt', '6250.txt', '5772.txt', '5296.txt', '6304.txt', '5067.txt', '4842.txt', '5859.txt', '6038.txt', '4608.txt', '5017.txt', '4566.txt', '5251.txt', '5233.txt', '6002.txt', '5276.txt', '6408.txt', '4711.txt', '4731.txt', '5252.txt', '5721.txt', '5212.txt', '6328.txt', '4575.txt', '4896.txt', '4504.txt', '4267.txt', '6093.txt', '5540.txt', '5014.txt', '6045.txt', '5174.txt', '5263.txt', '5216.txt', '5473.txt', '4549.txt', '5609.txt', '5757.txt', '5688.txt', '5523.txt', '4612.txt', '5056.txt', '5490.txt', '5200.txt', '6218.txt', '5220.txt', '5595.txt', '4540.txt', '6046.txt', '6171.txt', '4663.txt', '6339.txt', '4417.txt', '4844.txt', '4709.txt', '5737.txt', '4717.txt', '4429.txt', '5086.txt', '5843.txt', '5315.txt', '4946.txt', '4815.txt', '4675.txt', '4525.txt', '5288.txt', '5376.txt', '4347.txt', '4871.txt', '5872.txt', '5455.txt', '5830.txt', '5683.txt', '4848.txt', '6252.txt', '5506.txt', '5113.txt', '5471.txt', '6417.txt', '5449.txt', '4373.txt', '5273.txt', '5617.txt', '5453.txt', '6369.txt', '5121.txt', '6232.txt', '4712.txt', '4514.txt', '4809.txt', '5750.txt', '5460.txt', '5001.txt', '6220.txt', '6278.txt', '4701.txt', '4668.txt', '4753.txt', '4974.txt', '5310.txt', '4336.txt', '4475.txt', '6073.txt', '4432.txt', '5493.txt', '5365.txt', '6197.txt', '4286.txt', '4922.txt', '5890.txt', '4454.txt', '5968.txt', '6130.txt', '4734.txt', '4659.txt', '4986.txt', '4462.txt', '5156.txt', '6399.txt', '5297.txt', '5522.txt', '5358.txt', '6006.txt', '6213.txt', '5447.txt', '5755.txt', '6410.txt', '4405.txt', '6169.txt', '6051.txt', '5565.txt', '5844.txt', '6368.txt', '6186.txt', '5092.txt', '6192.txt', '5678.txt', '6036.txt', '5422.txt', '6160.txt', '4326.txt', '4558.txt', '6431.txt', '5335.txt', '5274.txt', '5372.txt', '6105.txt', '4453.txt', '4627.txt', '6103.txt', '6236.txt', '4872.txt', '5466.txt', '6475.txt', '4771.txt', '5659.txt', '4466.txt', '5955.txt', '5050.txt', '4419.txt', '4279.txt', '5631.txt', '6055.txt', '4570.txt', '5915.txt', '5570.txt', '4542.txt', '4559.txt', '4906.txt', '4714.txt', '5883.txt', '4388.txt', '5254.txt', '5743.txt', '6207.txt', '5561.txt', '4639.txt', '4692.txt', '5691.txt', '6461.txt', '5970.txt', '5214.txt', '6198.txt', '4357.txt', '5111.txt', '5897.txt', '4667.txt', '5865.txt', '5456.txt', '5611.txt', '6185.txt', '4899.txt', '6296.txt', '5291.txt', '5972.txt', '5941.txt', '5884.txt', '5531.txt', '4893.txt', '5328.txt', '4625.txt', '6222.txt', '4897.txt', '4652.txt', '5196.txt', '4821.txt', '5936.txt', '6034.txt', '5998.txt', '5384.txt', '4718.txt', '5742.txt', '4505.txt', '4548.txt', '5211.txt', '6084.txt', '5592.txt', '4920.txt', '6148.txt', '5986.txt', '4615.txt', '4690.txt', '5940.txt', '5386.txt', '4396.txt', '6149.txt', '5184.txt', '6008.txt', '5809.txt', '5482.txt', '4823.txt', '5244.txt', '5784.txt', '6466.txt', '4604.txt', '4671.txt', '5866.txt', '4533.txt', '5108.txt', '4814.txt', '6354.txt', '4803.txt', '5766.txt', '6214.txt', '6180.txt', '5294.txt', '5068.txt', '4850.txt', '5878.txt', '5594.txt', '4869.txt', '4951.txt', '5123.txt', '4955.txt', '5095.txt', '5563.txt', '4774.txt', '5097.txt', '4874.txt', '5332.txt', '4747.txt', '4581.txt', '4801.txt', '4632.txt', '5982.txt', '6468.txt', '5538.txt', '4392.txt', '4350.txt', '4456.txt', '5270.txt', '6206.txt', '4795.txt', '4284.txt', '5525.txt', '5031.txt', '4562.txt', '5640.txt', '6210.txt', '4650.txt', '5826.txt', '5420.txt', '6320.txt', '5815.txt', '4565.txt', '4374.txt', '5362.txt', '4503.txt', '6390.txt', '5197.txt', '4870.txt', '5485.txt', '6219.txt', '4656.txt', '6091.txt', '5250.txt', '5205.txt', '4891.txt', '5695.txt', '5819.txt', '5424.txt', '6426.txt', '5266.txt', '5058.txt', '4467.txt', '5647.txt', '4762.txt', '5185.txt', '5098.txt', '4501.txt', '4672.txt', '6000.txt', '4288.txt', '6201.txt', '5029.txt', '5089.txt', '4831.txt', '5142.txt', '4963.txt', '5237.txt', '4344.txt', '6203.txt', '5434.txt', '4393.txt', '4929.txt', '6363.txt', '5790.txt', '5044.txt', '4495.txt', '5114.txt', '5730.txt', '4439.txt', '4412.txt', '5182.txt', '5104.txt', '4271.txt', '6028.txt', '5706.txt', '4719.txt', '6134.txt', '4796.txt', '5326.txt', '4616.txt', '5161.txt', '6284.txt', '5414.txt', '6362.txt', '4447.txt', '5792.txt', '5402.txt', '5833.txt', '4689.txt', '4923.txt', '4509.txt', '5864.txt', '5082.txt', '4729.txt', '4398.txt', '5352.txt', '6401.txt', '4409.txt', '4851.txt', '5035.txt', '4460.txt', '6352.txt', '5867.txt', '4338.txt', '4756.txt', '5269.txt', '5971.txt', '5499.txt', '6056.txt', '6108.txt', '4354.txt', '5701.txt', '5677.txt', '4316.txt', '5775.txt', '4482.txt', '5459.txt', '4700.txt', '4278.txt', '4603.txt', '5043.txt', '5385.txt', '4590.txt', '5978.txt', '5644.txt', '6490.txt', '5511.txt', '5084.txt', '5407.txt', '4289.txt', '6100.txt', '5406.txt', '5016.txt', '6393.txt', '5556.txt', '4385.txt', '6097.txt', '4867.txt', '6179.txt', '5646.txt', '6027.txt', '5529.txt', '5135.txt', '5475.txt', '6033.txt', '4274.txt', '5641.txt', '4461.txt', '4918.txt', '4971.txt', '4854.txt', '6022.txt', '4822.txt', '4966.txt', '5272.txt', '5099.txt', '5803.txt', '5383.txt', '5533.txt', '4658.txt', '5025.txt', '4708.txt', '5616.txt', '5591.txt', '4648.txt', '4423.txt', '4968.txt', '4636.txt', '6483.txt', '6310.txt', '4340.txt', '6194.txt', '6052.txt', '4927.txt', '5090.txt', '6462.txt', '5801.txt', '6061.txt', '4526.txt', '5713.txt', '5379.txt', '5657.txt', '5526.txt', '5951.txt', '5987.txt', '5360.txt', '4507.txt', '5791.txt', '6367.txt', '5469.txt', '5397.txt', '5477.txt', '5282.txt', '6018.txt', '4959.txt', '6053.txt', '4933.txt', '4578.txt', '5377.txt', '4742.txt', '4471.txt', '4547.txt', '5580.txt', '4497.txt', '6135.txt', '5008.txt', '6217.txt', '5364.txt', '5794.txt', '5028.txt', '4665.txt', '4664.txt', '4902.txt', '4302.txt', '4885.txt', '5189.txt', '5542.txt', '6098.txt', '5662.txt', '5426.txt', '5675.txt', '4294.txt', '6078.txt', '6332.txt', '5241.txt', '6409.txt', '4908.txt', '5837.txt', '4333.txt', '4345.txt', '6233.txt', '5126.txt', '5213.txt', '6020.txt', '5079.txt', '5899.txt', '5651.txt', '4527.txt', '5444.txt', '6047.txt', '5913.txt', '5603.txt', '5515.txt', '4567.txt', '5341.txt', '4531.txt', '6360.txt', '5934.txt', '5598.txt', '6182.txt', '4304.txt', '5947.txt', '5436.txt', '5983.txt', '5465.txt', '4628.txt', '5906.txt', '5754.txt', '5400.txt', '6251.txt', '6181.txt', '4619.txt', '5905.txt', '6170.txt', '5901.txt', '5062.txt', '5101.txt', '4984.txt', '4330.txt', '6306.txt', '4346.txt', '6007.txt', '6237.txt', '6142.txt', '6315.txt', '5503.txt', '6264.txt', '5283.txt', '4988.txt', '6429.txt', '6019.txt', '5557.txt', '5457.txt', '4841.txt', '5147.txt', '6470.txt', '5427.txt', '6015.txt', '5320.txt', '6359.txt', '4629.txt', '5930.txt', '4589.txt', '6068.txt', '5144.txt', '4879.txt', '4433.txt', '6039.txt', '5732.txt', '5785.txt', '4782.txt', '4270.txt', '5896.txt', '4754.txt', '5007.txt', '5907.txt', '5654.txt', '4859.txt', '5354.txt', '6406.txt', '6227.txt', '4276.txt', '5033.txt', '4463.txt', '4752.txt', '5051.txt', '5670.txt', '6325.txt', '5602.txt', '5408.txt', '6477.txt', '4649.txt', '6240.txt', '5193.txt', '6443.txt', '6087.txt', '4522.txt', '5472.txt', '5720.txt', '6412.txt', '5494.txt', '5102.txt', '5278.txt', '4609.txt', '4435.txt', '4309.txt', '5777.txt', '5268.txt', '4536.txt', '6031.txt', '4516.txt', '5138.txt', '4434.txt', '5374.txt', '5258.txt', '5309.txt', '5171.txt', '5572.txt', '5462.txt', '5828.txt', '5705.txt', '4856.txt', '4669.txt', '5926.txt', '6158.txt', '5802.txt', '4928.txt', '5435.txt', '5116.txt', '6447.txt', '5508.txt', '4282.txt', '4873.txt', '5759.txt', '5446.txt', '4791.txt', '4799.txt', '5893.txt', '5672.txt', '5585.txt', '4997.txt', '4403.txt', '4342.txt', '5125.txt', '4530.txt', '4621.txt', '5222.txt', '5103.txt', '5718.txt', '4486.txt', '5838.txt', '5257.txt', '6024.txt', '5012.txt', '6322.txt', '6454.txt', '6059.txt', '5109.txt', '6398.txt', '4992.txt', '5891.txt', '5781.txt', '5949.txt', '4643.txt', '5545.txt', '4291.txt', '4676.txt', '5133.txt', '6397.txt', '5011.txt', '5052.txt', '5676.txt', '4715.txt', '6329.txt', '5122.txt', '4683.txt', '6163.txt', '6200.txt', '4510.txt', '4528.txt', '6473.txt', '4903.txt', '6346.txt', '5961.txt', '4353.txt', '5698.txt', '5685.txt', '4518.txt', '4449.txt', '6026.txt', '6062.txt', '4541.txt', '6111.txt', '6479.txt', '5107.txt', '4444.txt', '5514.txt', '4400.txt', '5192.txt', '5243.txt', '4416.txt', '6321.txt', '5492.txt', '5021.txt', '5823.txt', '5390.txt', '5401.txt', '5967.txt', '6085.txt', '5152.txt', '5649.txt', '5134.txt', '5302.txt', '5132.txt', '4691.txt', '6295.txt', '5997.txt', '5337.txt', '6340.txt', '5411.txt', '5979.txt', '4810.txt', '4640.txt', '6137.txt', '5812.txt', '6127.txt', '5588.txt', '4601.txt', '4833.txt', '5080.txt', '4724.txt', '6099.txt', '4894.txt', '4940.txt', '4332.txt', '6355.txt', '5917.txt', '5158.txt', '4469.txt', '4365.txt', '5933.txt', '6303.txt', '5489.txt', '5513.txt', '5723.txt', '4484.txt', '5569.txt', '4931.txt', '4315.txt', '4926.txt', '4488.txt', '5393.txt', '6256.txt', '4487.txt', '5795.txt', '4866.txt', '4606.txt', '5055.txt', '4982.txt', '4765.txt', '5922.txt', '5589.txt', '5350.txt', '5398.txt', '4499.txt', '4328.txt', '4465.txt', '4431.txt', '6282.txt', '6335.txt', '5537.txt', '5578.txt', '5699.txt', '5876.txt', '4360.txt', '4367.txt', '5073.txt', '5669.txt', '5921.txt', '5671.txt', '5210.txt', '4876.txt', '6141.txt', '5733.txt', '4746.txt', '6131.txt', '4837.txt', '4595.txt', '4932.txt', '5704.txt', '4728.txt', '4798.txt', '4860.txt', '6341.txt', '6060.txt', '5863.txt', '4677.txt', '5535.txt', '5929.txt', '6267.txt', '4348.txt', '5187.txt', '6297.txt', '6289.txt', '5783.txt', '4981.txt', '5650.txt', '5150.txt', '5536.txt', '4880.txt', '5325.txt', '5725.txt', '6444.txt', '6216.txt', '5470.txt', '5521.txt', '4758.txt', '4760.txt', '4569.txt', '5440.txt', '5810.txt', '4387.txt', '5340.txt', '4697.txt', '4638.txt', '5534.txt', '5279.txt', '6122.txt', '5850.txt', '5796.txt', '4737.txt', '5306.txt', '4592.txt', '5714.txt', '5724.txt', '4320.txt', '6081.txt', '6467.txt', '4588.txt', '6089.txt', '6066.txt', '5431.txt', '4480.txt', '5239.txt', '5467.txt', '5361.txt', '5605.txt', '6293.txt', '6425.txt', '5614.txt', '5601.txt', '4325.txt', '6175.txt', '5060.txt', '4508.txt', '6070.txt', '5225.txt', '4490.txt', '6382.txt', '6249.txt', '5312.txt', '4681.txt', '6356.txt', '5375.txt', '4313.txt', '4793.txt', '6357.txt', '5956.txt', '4693.txt', '4766.txt', '5262.txt', '6021.txt', '4770.txt', '5195.txt', '4919.txt', '5368.txt', '5023.txt', '4335.txt', '6261.txt', '4653.txt', '6266.txt', '5307.txt', '4352.txt', '6489.txt', '4355.txt', '4481.txt', '5587.txt', '4745.txt', '5707.txt', '4587.txt', '5839.txt', '6313.txt', '4947.txt', '5551.txt', '5496.txt', '5950.txt', '5217.txt', '5153.txt', '5975.txt', '6385.txt', '5172.txt', '4386.txt', '4607.txt', '6333.txt', '4406.txt', '6140.txt', '5347.txt', '4275.txt', '4834.txt', '5944.txt', '5996.txt', '6205.txt', '6255.txt', '6004.txt', '4688.txt', '6035.txt', '4696.txt', '4924.txt', '4905.txt', '6482.txt', '5343.txt', '4892.txt', '5064.txt', '5716.txt', '5336.txt', '6350.txt', '6375.txt', '6353.txt', '4402.txt', '6351.txt', '5988.txt', '5619.txt', '5188.txt', '5231.txt', '4546.txt', '4519.txt', '6305.txt', '4630.txt', '5965.txt', '5363.txt', '4327.txt', '5240.txt', '4317.txt', '6017.txt', '6273.txt', '2215.txt', '2025.txt', '3022.txt', '3639.txt', '2812.txt', '3242.txt', '3720.txt', '3395.txt', '1665.txt', '1507.txt', '2403.txt', '1655.txt', '2726.txt', '2466.txt', '4028.txt', '1673.txt', '2656.txt', '2026.txt', '4244.txt', '3819.txt', '2062.txt', '3166.txt', '4104.txt', '1977.txt', '3096.txt', '3529.txt', '4198.txt', '4158.txt', '2592.txt', '3581.txt', '3978.txt', '1523.txt', '1978.txt', '1750.txt', '2361.txt', '3339.txt', '3625.txt', '1864.txt', '3072.txt', '2275.txt', '1643.txt', '3760.txt', '4161.txt', '1709.txt', '3322.txt', '3215.txt', '2718.txt', '2875.txt', '1830.txt', '3681.txt', '2422.txt', '3742.txt', '4106.txt', '1722.txt', '2109.txt', '2337.txt', '2174.txt', '3696.txt', '3114.txt', '3501.txt', '1710.txt', '3211.txt', '3768.txt', '2391.txt', '2256.txt', '1967.txt', '3693.txt', '2291.txt', '2814.txt', '1632.txt', '1926.txt', '1503.txt', '2627.txt', '2252.txt', '3895.txt', '2720.txt', '2658.txt', '2095.txt', '4225.txt', '3253.txt', '3207.txt', '1578.txt', '2454.txt', '2173.txt', '3023.txt', '3647.txt', '4094.txt', '3151.txt', '2778.txt', '2110.txt', '3643.txt', '2148.txt', '3431.txt', '3858.txt', '2489.txt', '2007.txt', '4233.txt', '2205.txt', '2212.txt', '3224.txt', '1560.txt', '2446.txt', '3026.txt', '3702.txt', '2331.txt', '2874.txt', '3272.txt', '3642.txt', '1729.txt', '1936.txt', '3159.txt', '1576.txt', '3107.txt', '3031.txt', '3079.txt', '1617.txt', '4072.txt', '1900.txt', '3882.txt', '2859.txt', '1871.txt', '3902.txt', '2347.txt', '2328.txt', '1598.txt', '3732.txt', '2447.txt', '2340.txt', '3401.txt', '1736.txt', '2512.txt', '2268.txt', '3418.txt', '2794.txt', '1651.txt', '2404.txt', '2924.txt', '1506.txt', '2221.txt', '2692.txt', '2651.txt', '2137.txt', '2653.txt', '3797.txt', '3712.txt', '3094.txt', '2303.txt', '3071.txt', '3859.txt', '2708.txt', '1619.txt', '1752.txt', '3273.txt', '3525.txt', '3050.txt', '2417.txt', '3556.txt', '1876.txt', '3519.txt', '4149.txt', '3860.txt', '3863.txt', '3198.txt', '2081.txt', '1662.txt', '2332.txt', '2265.txt', '3563.txt', '2988.txt', '2146.txt', '3690.txt', '3252.txt', '2753.txt', '2610.txt', '4162.txt', '3181.txt', '3870.txt', '3145.txt', '2468.txt', '3997.txt', '3898.txt', '2916.txt', '1530.txt', '3983.txt', '3359.txt', '3934.txt', '3567.txt', '1573.txt', '3806.txt', '2955.txt', '3471.txt', '1904.txt', '4254.txt', '2757.txt', '2904.txt', '3414.txt', '2795.txt', '3109.txt', '2743.txt', '3472.txt', '1688.txt', '2129.txt', '3729.txt', '2993.txt', '2241.txt', '1987.txt', '2717.txt', '3480.txt', '2703.txt', '4187.txt', '1891.txt', '3373.txt', '2111.txt', '2392.txt', '2421.txt', '2228.txt', '4131.txt', '4210.txt', '3949.txt', '2465.txt', '2819.txt', '3462.txt', '4017.txt', '2474.txt', '1838.txt', '3685.txt', '3545.txt', '2374.txt', '1845.txt', '4243.txt', '2063.txt', '4021.txt', '1542.txt', '2881.txt', '1880.txt', '1696.txt', '1854.txt', '2293.txt', '4144.txt', '1800.txt', '2594.txt', '3617.txt', '3193.txt', '3083.txt', '3487.txt', '2253.txt', '3311.txt', '2159.txt', '3833.txt', '3424.txt', '3808.txt', '2973.txt', '3982.txt', '4155.txt', '2395.txt', '1975.txt', '3113.txt', '2408.txt', '3526.txt', '1586.txt', '3948.txt', '2920.txt', '3400.txt', '4219.txt', '1509.txt', '1804.txt', '3668.txt', '3085.txt', '2683.txt', '4088.txt', '3287.txt', '2460.txt', '3579.txt', '2820.txt', '2204.txt', '2888.txt', '1917.txt', '1787.txt', '4180.txt', '2587.txt', '3817.txt', '3670.txt', '1559.txt', '3245.txt', '2102.txt', '3162.txt', '4081.txt', '2893.txt', '3534.txt', '2966.txt', '3084.txt', '3890.txt', '3725.txt', '3384.txt', '1531.txt', '2476.txt', '3265.txt', '3636.txt', '2091.txt', '2278.txt', '3399.txt', '2035.txt', '3886.txt', '2923.txt', '3803.txt', '2834.txt', '3314.txt', '2958.txt', '3531.txt', '3095.txt', '3482.txt', '1585.txt', '2579.txt', '3848.txt', '1919.txt', '3029.txt', '1674.txt', '4048.txt', '1961.txt', '1547.txt', '1770.txt', '2910.txt', '2233.txt', '4160.txt', '3530.txt', '2416.txt', '1983.txt', '3585.txt', '1667.txt', '2149.txt', '2126.txt', '4012.txt', '2979.txt', '2121.txt', '1956.txt', '1537.txt', '4024.txt', '3254.txt', '3262.txt', '3182.txt', '1824.txt', '3632.txt', '4236.txt', '2749.txt', '3823.txt', '2240.txt', '1718.txt', '3767.txt', '1732.txt', '2568.txt', '2711.txt', '4223.txt', '1676.txt', '1733.txt', '4127.txt', '3256.txt', '2061.txt', '2377.txt', '3477.txt', '3135.txt', '3789.txt', '1897.txt', '2937.txt', '3126.txt', '2172.txt', '1760.txt', '2185.txt', '2057.txt', '1536.txt', '3781.txt', '2596.txt', '1998.txt', '2728.txt', '2832.txt', '3458.txt', '3420.txt', '2218.txt', '2113.txt', '2715.txt', '4170.txt', '3053.txt', '2918.txt', '2707.txt', '2982.txt', '2463.txt', '3517.txt', '3378.txt', '4128.txt', '1661.txt', '2735.txt', '3992.txt', '4113.txt', '2419.txt', '2216.txt', '4033.txt', '3604.txt', '3433.txt', '3222.txt', '3460.txt', '2648.txt', '2935.txt', '2999.txt', '2780.txt', '2482.txt', '2561.txt', '1951.txt', '3432.txt', '2548.txt', '3306.txt', '2611.txt', '3577.txt', '2387.txt', '3991.txt', '1546.txt', '1604.txt', '2620.txt', '2459.txt', '4227.txt', '2043.txt', '2189.txt', '2978.txt', '2813.txt', '3464.txt', '4052.txt', '3448.txt', '3137.txt', '3959.txt', '3261.txt', '3555.txt', '1737.txt', '2018.txt', '3901.txt', '1856.txt', '3686.txt', '2314.txt', '2430.txt', '2948.txt', '3966.txt', '3809.txt', '3056.txt', '2452.txt', '4062.txt', '3453.txt', '1634.txt', '2206.txt', '2747.txt', '2655.txt', '1989.txt', '3052.txt', '2724.txt', '3048.txt', '3979.txt', '3228.txt', '4234.txt', '2857.txt', '3294.txt', '3723.txt', '3828.txt', '2222.txt', '2880.txt', '3412.txt', '2693.txt', '4025.txt', '1571.txt', '1705.txt', '1692.txt', '3832.txt', '3144.txt', '2155.txt', '1639.txt', '3618.txt', '2575.txt', '3780.txt', '3571.txt', '2139.txt', '2070.txt', '2905.txt', '2785.txt', '2643.txt', '3040.txt', '1564.txt', '1902.txt', '3203.txt', '2545.txt', '3342.txt', '2099.txt', '3528.txt', '3308.txt', '2056.txt', '1829.txt', '3344.txt', '2104.txt', '2490.txt', '3002.txt', '3017.txt', '4146.txt', '3871.txt', '3015.txt', '3394.txt', '3672.txt', '3165.txt', '2836.txt', '3078.txt', '4159.txt', '3706.txt', '1813.txt', '3108.txt', '3237.txt', '2956.txt', '1915.txt', '3737.txt', '2274.txt', '4065.txt', '3755.txt', '1677.txt', '2738.txt', '3698.txt', '4196.txt', '2103.txt', '4188.txt', '3741.txt', '4112.txt', '3770.txt', '1759.txt', '2245.txt', '2451.txt', '2833.txt', '2609.txt', '4027.txt', '3572.txt', '3051.txt', '2152.txt', '2138.txt', '1512.txt', '1618.txt', '2646.txt', '2941.txt', '2779.txt', '2050.txt', '3012.txt', '3596.txt', '3957.txt', '4059.txt', '3511.txt', '4148.txt', '1541.txt', '2118.txt', '3291.txt', '2267.txt', '2384.txt', '3857.txt', '2107.txt', '2319.txt', '3651.txt', '2379.txt', '2014.txt', '3634.txt', '2855.txt', '2047.txt', '2976.txt', '3499.txt', '3666.txt', '2804.txt', '2156.txt', '1962.txt', '1647.txt', '1809.txt', '2495.txt', '3665.txt', '2429.txt', '1740.txt', '1776.txt', '2088.txt', '1535.txt', '2645.txt', '3612.txt', '3328.txt', '3919.txt', '2154.txt', '3866.txt', '2865.txt', '3475.txt', '3362.txt', '2914.txt', '4220.txt', '2108.txt', '1812.txt', '1646.txt', '3952.txt', '3147.txt', '2917.txt', '4091.txt', '3490.txt', '3583.txt', '3903.txt', '2876.txt', '3560.txt', '4207.txt', '2414.txt', '4208.txt', '3892.txt', '3981.txt', '1678.txt', '1769.txt', '2141.txt', '4082.txt', '1850.txt', '3543.txt', '2860.txt', '1814.txt', '2197.txt', '2131.txt', '1757.txt', '4090.txt', '2889.txt', '2362.txt', '2202.txt', '1623.txt', '2024.txt', '4209.txt', '1684.txt', '1941.txt', '2560.txt', '1798.txt', '2242.txt', '2114.txt', '1811.txt', '3189.txt', '4238.txt', '2668.txt', '3582.txt', '2264.txt', '1916.txt', '2350.txt', '2494.txt', '3138.txt', '3244.txt', '2295.txt', '2928.txt', '3542.txt', '4114.txt', '3671.txt', '3883.txt', '1622.txt', '2755.txt', '3638.txt', '2201.txt', '2449.txt', '3928.txt', '2709.txt', '4191.txt', '2516.txt', '2106.txt', '3558.txt', '3491.txt', '3158.txt', '2863.txt', '2608.txt', '2754.txt', '1994.txt', '4215.txt', '3264.txt', '1783.txt', '3154.txt', '2184.txt', '3139.txt', '3457.txt', '3407.txt', '3593.txt', '3316.txt', '4229.txt', '3187.txt', '1610.txt', '3503.txt', '2817.txt', '3422.txt', '4076.txt', '2899.txt', '4173.txt', '3437.txt', '1931.txt', '1810.txt', '4120.txt', '2714.txt', '3794.txt', '3329.txt', '2987.txt', '1577.txt', '2479.txt', '4008.txt', '1743.txt', '2633.txt', '3066.txt', '1686.txt', '2286.txt', '3518.txt', '3961.txt', '2581.txt', '2500.txt', '1500.txt', '3508.txt', '2455.txt', '3764.txt', '2517.txt', '2762.txt', '1707.txt', '1592.txt', '4200.txt', '3427.txt', '2947.txt', '2398.txt', '3058.txt', '3805.txt', '3922.txt', '1831.txt', '2599.txt', '1884.txt', '1855.txt', '1890.txt', '3318.txt', '2730.txt', '1525.txt', '3897.txt', '2719.txt', '3217.txt', '3043.txt', '2995.txt', '2649.txt', '2567.txt', '1958.txt', '1937.txt', '1708.txt', '4177.txt', '2556.txt', '2356.txt', '4182.txt', '1942.txt', '2023.txt', '1803.txt', '2297.txt', '1928.txt', '3884.txt', '2503.txt', '2590.txt', '2306.txt', '2341.txt', '2701.txt', '1914.txt', '5881.txt', '5381.txt', '4285.txt', '4772.txt', '4476.txt', '4936.txt', '5715.txt', '6077.txt', '5824.txt', '4537.txt', '4989.txt', '6404.txt', '4620.txt', '5091.txt', '6349.txt', '5519.txt', '4662.txt', '6283.txt', '5584.txt', '5977.txt', '6096.txt', '5030.txt', '6029.txt', '4577.txt', '6418.txt', '5552.txt', '5059.txt', '5717.txt', '4617.txt', '5624.txt', '5047.txt', '4744.txt', '5583.txt', '6164.txt', '6334.txt', '5822.txt', '5909.txt', '5181.txt', '5204.txt', '6487.txt', '4297.txt', '5664.txt', '4395.txt', '4785.txt', '5954.txt', '4773.txt', '6082.txt', '4991.txt', '6488.txt', '5625.txt', '6480.txt', '5728.txt', '4964.txt', '4598.txt', '6270.txt', '6496.txt', '4937.txt', '5041.txt', '6287.txt', '5807.txt', '5690.txt', '6074.txt', '4995.txt', '4358.txt', '5004.txt', '5689.txt', '6347.txt', '5478.txt', '5177.txt', '6420.txt', '4473.txt', '4780.txt', '6101.txt', '5371.txt', '5081.txt', '4404.txt', '5679.txt', '5235.txt', '4748.txt', '5159.txt', '6427.txt', '4976.txt', '5874.txt', '5234.txt', '6469.txt', '5063.txt', '5318.txt', '4987.txt', '4847.txt', '4305.txt', '4845.txt', '4962.txt', '5633.txt', '4443.txt', '6014.txt', '5437.txt', '5168.txt', '6025.txt', '4720.txt', '5223.txt', '5615.txt', '5504.txt', '4786.txt', '5170.txt', '5199.txt', '5749.txt', '5524.txt', '6307.txt', '6241.txt', '6204.txt', '5880.txt', '4740.txt', '4390.txt', '5054.txt', '4377.txt', '5711.txt', '5546.txt', '5321.txt', '4817.txt', '5696.txt', '5948.txt', '5575.txt', '4704.txt', '5727.txt', '5942.txt', '4543.txt', '6009.txt', '5581.txt', '6428.txt', '5094.txt', '5553.txt', '4300.txt', '6438.txt', '6115.txt', '5045.txt', '4493.txt', '4478.txt', '4491.txt', '5198.txt', '5776.txt', '6177.txt', '5203.txt', '5510.txt', '5638.txt', '5417.txt', '6380.txt', '4483.txt', '5395.txt', '5046.txt', '4576.txt', '6003.txt', '5984.txt', '5468.txt', '4768.txt', '5898.txt', '4269.txt', '5502.txt', '4394.txt', '4591.txt', '4911.txt', '4623.txt', '4666.txt', '4736.txt', '5612.txt', '5879.txt', '4761.txt', '4707.txt', '6166.txt', '5284.txt', '5966.txt', '6143.txt', '6010.txt', '5613.txt', '5590.txt', '5208.txt', '6370.txt', '5166.txt', '5914.txt', '5816.txt', '5935.txt', '4568.txt', '5825.txt', '6458.txt', '5912.txt', '5842.txt', '4938.txt', '5355.txt', '5183.txt', '4641.txt', '5973.txt', '6271.txt', '5648.txt', '5544.txt', '6178.txt', '5209.txt', '6069.txt', '5573.txt', '4972.txt', '5164.txt', '6326.txt', '5483.txt', '4553.txt', '5871.txt', '4437.txt', '5692.txt', '6445.txt', '4535.txt', '4934.txt', '5555.txt', '5847.txt', '5264.txt', '4645.txt', '4915.txt', '6263.txt', '5303.txt', '6336.txt', '5780.txt', '5331.txt', '5805.txt', '6223.txt', '5173.txt', '4574.txt', '6495.txt', '4743.txt', '4375.txt', '6292.txt', '4950.txt', '4600.txt', '5389.txt', '6388.txt', '4343.txt', '5488.txt', '4133.txt', '1633.txt', '2048.txt', '1557.txt', '2036.txt', '3167.txt', '3010.txt', '2939.txt', '3320.txt', '2388.txt', '4097.txt', '1970.txt', '2864.txt', '4256.txt', '3452.txt', '2467.txt', '3232.txt', '3939.txt', '2456.txt', '3430.txt', '2565.txt', '2427.txt', '2342.txt', '2690.txt', '3315.txt', '1955.txt', '3220.txt', '4117.txt', '1775.txt', '3117.txt', '2908.txt', '1772.txt', '1695.txt', '2310.txt', '1778.txt', '3411.txt', '3238.txt', '1693.txt', '3881.txt', '3192.txt', '3999.txt', '1548.txt', '4101.txt', '2031.txt', '3843.txt', '3281.txt', '3522.txt', '3009.txt', '3622.txt', '3599.txt', '2550.txt', '2801.txt', '4080.txt', '2867.txt', '1543.txt', '2226.txt', '3369.txt', '3592.txt', '4157.txt', '3541.txt', '1801.txt', '4193.txt', '3660.txt', '3303.txt', '2570.txt', '2041.txt', '4174.txt', '4058.txt', '2193.txt', '2458.txt', '2054.txt', '3615.txt', '1599.txt', '1611.txt', '3684.txt', '1906.txt', '3912.txt', '2802.txt', '2931.txt', '2771.txt', '3502.txt', '3500.txt', '1792.txt', '2953.txt', '2549.txt', '2679.txt', '1786.txt', '3916.txt', '2368.txt', '3297.txt', '2591.txt', '3170.txt', '2354.txt', '4178.txt', '2065.txt', '2483.txt', '2481.txt', '3175.txt', '1872.txt', '3194.txt', '1739.txt', '3885.txt', '1748.txt', '3131.txt', '1785.txt', '1852.txt', '4046.txt', '1947.txt', '2845.txt', '3856.txt', '1687.txt', '3941.txt', '3127.txt', '2971.txt', '4205.txt', '1849.txt', '3757.txt', '3286.txt', '3763.txt', '1735.txt', '3077.txt', '2039.txt', '2994.txt', '2853.txt', '3269.txt', '2997.txt', '2786.txt', '2017.txt', '4203.txt', '3984.txt', '1711.txt', '2685.txt', '2634.txt', '1843.txt', '1842.txt', '2198.txt', '3675.txt', '2401.txt', '1794.txt', '1918.txt', '1681.txt', '2038.txt', '3225.txt', '2607.txt', '2307.txt', '3234.txt', '3963.txt', '3719.txt', '2578.txt', '2821.txt', '1515.txt', '3379.txt', '3046.txt', '2420.txt', '1840.txt', '1957.txt', '2852.txt', '2074.txt', '2167.txt', '1898.txt', '1844.txt', '1954.txt', '2871.txt', '4153.txt', '2383.txt', '3557.txt', '2673.txt', '4078.txt', '3990.txt', '2502.txt', '3944.txt', '3366.txt', '3779.txt', '3683.txt', '3821.txt', '2664.txt', '4202.txt', '2112.txt', '3623.txt', '3790.txt', '3059.txt', '4011.txt', '4151.txt', '2595.txt', '4235.txt', '3921.txt', '3830.txt', '2426.txt', '2298.txt', '1596.txt', '3171.txt', '3801.txt', '3402.txt', '1659.txt', '1720.txt', '2929.txt', '3336.txt', '2898.txt', '1620.txt', '3146.txt', '1874.txt', '2400.txt', '2128.txt', '3169.txt', '1909.txt', '2115.txt', '3290.txt', '3386.txt', '3274.txt', '2847.txt', '2378.txt', '2589.txt', '3255.txt', '4035.txt', '2588.txt', '3024.txt', '3646.txt', '1556.txt', '1999.txt', '3403.txt', '2922.txt', '2373.txt', '2873.txt', '3600.txt', '2741.txt', '2073.txt', '2049.txt', '3390.txt', '2410.txt', '2991.txt', '2229.txt', '3160.txt', '3879.txt', '2158.txt', '3355.txt', '3796.txt', '3013.txt', '2411.txt', '2684.txt', '2441.txt', '2019.txt', '3506.txt', '2077.txt', '2325.txt', '1762.txt', '2166.txt', '4258.txt', '3659.txt', '3661.txt', '3926.txt', '1771.txt', '2528.txt', '2270.txt', '2475.txt', '3341.txt', '4255.txt', '3815.txt', '2431.txt', '3769.txt', '2247.txt', '4176.txt', '4168.txt', '3489.txt', '2638.txt', '3357.txt', '1867.txt', '3380.txt', '3575.txt', '2157.txt', '3030.txt', '3657.txt', '2702.txt', '3367.txt', '3205.txt', '4039.txt', '3235.txt', '3967.txt', '1774.txt', '3993.txt', '2798.txt', '3307.txt', '4063.txt', '2477.txt', '2200.txt', '3849.txt', '2437.txt', '3444.txt', '2689.txt', '2986.txt', '2661.txt', '1825.txt', '2606.txt', '2010.txt', '2504.txt', '3364.txt', '1746.txt', '3872.txt', '1568.txt', '2901.txt', '4246.txt', '3210.txt', '1670.txt', '2082.txt', '1841.txt', '3846.txt', '2044.txt', '1795.txt', '2002.txt', '3552.txt', '2349.txt', '2542.txt', '1966.txt', '2085.txt', '4074.txt', '2399.txt', '1584.txt', '1827.txt', '2531.txt', '1615.txt', '3691.txt', '1789.txt', '2618.txt', '1501.txt', '4263.txt', '3931.txt', '2435.txt', '2909.txt', '3219.txt', '2603.txt', '2822.txt', '2076.txt', '1664.txt', '2637.txt', '3449.txt', '2280.txt', '3523.txt', '3954.txt', '3946.txt', '1716.txt', '1894.txt', '1993.txt', '2574.txt', '2950.txt', '2022.txt', '3847.txt', '2805.txt', '3353.txt', '1952.txt', '4216.txt', '4192.txt', '1654.txt', '3761.txt', '3039.txt', '1836.txt', '3465.txt', '1685.txt', '3033.txt', '3971.txt', '2665.txt', '2432.txt', '2742.txt', '2491.txt', '2925.txt', '1657.txt', '2142.txt', '1790.txt', '1901.txt', '3852.txt', '2136.txt', '2890.txt', '2269.txt', '2299.txt', '3112.txt', '2396.txt', '2071.txt', '3200.txt', '3110.txt', '2940.txt', '3837.txt', '4251.txt', '2519.txt', '1701.txt', '2704.txt', '2686.txt', '2616.txt', '3532.txt', '1605.txt', '1607.txt', '2789.txt', '2688.txt', '2119.txt', '3313.txt', '2186.txt', '2515.txt', '1974.txt', '1680.txt', '3510.txt', '3891.txt', '2030.txt', '4252.txt', '2359.txt', '2133.txt', '2657.txt', '3016.txt', '1652.txt', '4135.txt', '3745.txt', '3868.txt', '1744.txt', '3021.txt', '2175.txt', '3006.txt', '3223.txt', '3196.txt', '3655.txt', '3419.txt', '2003.txt', '1717.txt', '1682.txt', '2938.txt', '2273.txt', '3450.txt', '4123.txt', '3614.txt', '2287.txt', '4239.txt', '3831.txt', '3703.txt', '2791.txt', '2257.txt', '2442.txt', '3227.txt', '3226.txt', '1625.txt', '2558.txt', '2353.txt', '2891.txt', '2364.txt', '1860.txt', '1715.txt', '3718.txt', '4195.txt', '2774.txt', '4085.txt', '3880.txt', '3496.txt', '2365.txt', '2535.txt', '3795.txt', '1699.txt', '3174.txt', '2178.txt', '1521.txt', '3116.txt', '3221.txt', '3968.txt', '2028.txt', '2402.txt', '3032.txt', '1704.txt', '2140.txt', '1881.txt', '1613.txt', '3093.txt', '2227.txt', '2120.txt', '3537.txt', '3468.txt', '3134.txt', '3105.txt', '2100.txt', '3054.txt', '2208.txt', '2868.txt', '1636.txt', '2032.txt', '1513.txt', '1558.txt', '2624.txt', '2636.txt', '2544.txt', '1979.txt', '2769.txt', '3479.txt', '1511.txt', '3004.txt', '1595.txt', '3454.txt', '2677.txt', '1540.txt', '3707.txt', '3799.txt', '2885.txt', '3935.txt', '2667.txt', '4253.txt', '2249.txt', '3845.txt', '4038.txt', '4189.txt', '3867.txt', '2887.txt', '3652.txt', '2882.txt', '3278.txt', '4060.txt', '2597.txt', '3586.txt', '2508.txt', '3989.txt', '1517.txt', '2334.txt', '2532.txt', '2412.txt', '1911.txt', '2698.txt', '2020.txt', '2750.txt', '3812.txt', '3624.txt', '2964.txt', '3595.txt', '2501.txt', '2045.txt', '3925.txt', '2862.txt', '1976.txt', '2895.txt', '3277.txt', '1694.txt', '2712.txt', '3810.txt', '4206.txt', '4067.txt', '2343.txt', '3969.txt', '3092.txt', '1913.txt', '3435.txt', '3360.txt', '3456.txt', '1628.txt', '2705.txt', '3680.txt', '3285.txt', '2423.txt', '2223.txt', '3446.txt', '2397.txt', '2524.txt', '4183.txt', '2965.txt', '4240.txt', '1532.txt', '2300.txt', '3917.txt', '2727.txt', '3150.txt', '4262.txt', '3086.txt', '4179.txt', '1629.txt', '2407.txt', '3840.txt', '1846.txt', '3133.txt', '2471.txt', '3744.txt', '3300.txt', '2194.txt', '3974.txt', '3649.txt', '3038.txt', '1943.txt', '3298.txt', '1656.txt', '3065.txt', '1853.txt', '3423.txt', '2369.txt', '1903.txt', '3792.txt', '1630.txt', '4142.txt', '1747.txt', '3588.txt', '3566.txt', '2005.txt', '2713.txt', '3119.txt', '4211.txt', '2752.txt', '1529.txt', '2217.txt', '2522.txt', '4166.txt', '2829.txt', '3650.txt', '2782.txt', '2613.txt', '3688.txt', '4055.txt', '4259.txt', '3381.txt', '3598.txt', '3304.txt', '2207.txt', '2230.txt', '2321.txt', '3180.txt', '2506.txt', '2659.txt', '1861.txt', '1858.txt', '3551.txt', '2380.txt', '2842.txt', '2250.txt', '3206.txt', '3451.txt', '3365.txt', '3027.txt', '2055.txt', '3001.txt', '4248.txt', '4136.txt', '3356.txt', '3466.txt', '1658.txt', '3326.txt', '2376.txt', '3392.txt', '4009.txt', '3335.txt', '2382.txt', '3715.txt', '4169.txt', '3710.txt', '3302.txt', '3964.txt', '3338.txt', '3055.txt', '3662.txt', '3985.txt', '3246.txt', '1631.txt', '2800.txt', '4218.txt', '3349.txt', '1689.txt', '1922.txt', '1758.txt', '2837.txt', '3011.txt', '1719.txt', '1910.txt', '3611.txt', '2213.txt', '2375.txt', '3914.txt', '2990.txt', '3260.txt', '3173.txt', '1819.txt', '1751.txt', '4147.txt', '3736.txt', '2210.txt', '3259.txt', '2897.txt', '3257.txt', '2304.txt', '2509.txt', '2586.txt', '2981.txt', '3793.txt', '3554.txt', '3580.txt', '1793.txt', '1996.txt', '4031.txt', '3631.txt', '2000.txt', '2723.txt', '2626.txt', '3986.txt', '2219.txt', '3656.txt', '3081.txt', '2345.txt', '2079.txt', '2370.txt', '2564.txt', '1935.txt', '1550.txt', '3416.txt', '4057.txt', '4042.txt', '3590.txt', '3838.txt', '4001.txt', '2739.txt', '2569.txt', '1624.txt', '4051.txt', '2366.txt', '3735.txt', '4261.txt', '3425.txt', '3140.txt', '2445.txt', '2101.txt', '2737.txt', '2793.txt', '3739.txt', '4163.txt', '2900.txt', '1703.txt', '4140.txt', '1808.txt', '3324.txt', '2745.txt', '2911.txt', '3774.txt', '2768.txt', '3209.txt', '1649.txt', '2209.txt', '3973.txt', '1565.txt', '3005.txt', '1920.txt', '3312.txt', '3190.txt', '2699.txt', '2959.txt', '3923.txt', '1597.txt', '4003.txt', '1883.txt', '2318.txt', '2192.txt', '3101.txt', '1504.txt', '2764.txt', '3516.txt', '2733.txt', '3478.txt', '2660.txt', '3459.txt', '3958.txt', '4036.txt', '2285.txt', '2505.txt', '2934.txt', '1834.txt', '2190.txt', '3075.txt', '2518.txt', '3546.txt', '2405.txt', '2360.txt', '2669.txt', '1745.txt', '1933.txt', '2566.txt', '2573.txt', '3888.txt', '3771.txt', '3099.txt', '3361.txt', '1807.txt', '1724.txt', '2674.txt', '2962.txt', '3025.txt', '3149.txt', '3473.txt', '2308.txt', '2498.txt', '3762.txt', '2338.txt', '3283.txt', '2534.txt', '2067.txt', '3900.txt', '3887.txt', '2952.txt', '3426.txt', '3183.txt', '1590.txt', '3758.txt', '3570.txt', '2453.txt', '2663.txt', '3284.txt', '1539.txt', '4096.txt', '3387.txt', '2237.txt', '2279.txt', '4103.txt', '3727.txt', '2313.txt', '2691.txt', '4089.txt', '2687.txt', '1862.txt', '4073.txt', '1626.txt', '2848.txt', '2671.txt', '2259.txt', '1863.txt', '1538.txt', '3231.txt', '3589.txt', '2903.txt', '3485.txt', '2818.txt', '3753.txt', '4077.txt', '3035.txt', '3377.txt', '2179.txt', '3962.txt', '3156.txt', '3049.txt', '3124.txt', '4047.txt', '3111.txt', '3044.txt', '3785.txt', '2480.txt', '2788.txt', '1946.txt', '1755.txt', '1835.txt', '2629.txt', '3188.txt', '3918.txt', '2697.txt', '2514.txt', '4231.txt', '2246.txt', '2078.txt', '1726.txt', '2776.txt', '3862.txt', '3332.txt', '4064.txt', '1601.txt', '3550.txt', '3042.txt', '4002.txt', '3641.txt', '1982.txt', '2639.txt', '2825.txt', '3561.txt', '4032.txt', '2116.txt', '2628.txt', '2647.txt', '3036.txt', '2236.txt', '1820.txt', '3240.txt', '1859.txt', '3125.txt', '3864.txt', '2272.txt', '3282.txt', '3271.txt', '2520.txt', '2176.txt', '3906.txt', '1637.txt', '1896.txt', '2866.txt', '1555.txt', '2710.txt', '3122.txt', '3524.txt', '3263.txt', '3028.txt', '3270.txt', '3960.txt', '3818.txt', '3689.txt', '2526.txt', '3749.txt', '3481.txt', '3230.txt', '3896.txt', '3842.txt', '4084.txt', '1650.txt', '2171.txt', '2346.txt', '1764.txt', '2507.txt', '3972.txt', '3697.txt', '3756.txt', '3679.txt', '3352.txt', '3873.txt', '1997.txt', '2147.txt', '1671.txt', '3319.txt', '4019.txt', '3350.txt', '1828.txt', '4165.txt', '2034.txt', '2678.txt', '3620.txt', '2288.txt', '2680.txt', '3533.txt', '1725.txt', '1837.txt', '4250.txt', '2290.txt', '1672.txt', '2582.txt', '1973.txt', '1545.txt', '2143.txt', '2621.txt', '1875.txt', '1742.txt', '3488.txt', '2004.txt', '1508.txt', '2744.txt', '1516.txt', '2258.txt', '2615.txt', '4102.txt', '2094.txt', '2239.txt', '2803.txt', '3977.txt', '4105.txt', '1929.txt', '2872.txt', '2117.txt', '2037.txt', '4086.txt', '1899.txt', '1768.txt', '3445.txt', '2827.txt', '3330.txt', '2525.txt', '2457.txt', '1818.txt', '2614.txt', '1591.txt', '2580.txt', '1980.txt', '2180.txt', '1524.txt', '1965.txt', '4197.txt', '1505.txt', '2409.txt', '2478.txt', '3064.txt', '3965.txt', '3455.txt', '2188.txt', '1797.txt', '2492.txt', '3076.txt', '3787.txt', '3875.txt', '3461.txt', '4232.txt', '3648.txt', '3628.txt', '2557.txt', '3905.txt', '3824.txt', '3428.txt', '4099.txt', '3123.txt', '3354.txt', '2352.txt', '2571.txt', '2772.txt', '2132.txt', '2448.txt', '2027.txt', '1706.txt', '2767.txt', '1544.txt', '4043.txt', '2042.txt', '2977.txt', '4083.txt', '3630.txt', '2281.txt', '4247.txt', '3807.txt', '2886.txt', '4264.txt', '2122.txt', '3773.txt', '2861.txt', '2168.txt', '3098.txt', '3063.txt', '2415.txt', '1763.txt', '2759.txt', '1514.txt', '3730.txt', '3068.txt', '2523.txt', '4204.txt', '3179.txt', '3130.txt', '2006.txt', '1583.txt', '2244.txt', '3143.txt', '3374.txt', '2151.txt', '4061.txt', '3090.txt', '3653.txt', '2598.txt', '1754.txt', '3088.txt', '2358.txt', '3396.txt', '2363.txt', '3938.txt', '3299.txt', '1857.txt', '3214.txt', '2539.txt', '2984.txt', '3635.txt', '2593.txt', '3539.txt', '2828.txt', '3877.txt', '4109.txt', '4023.txt', '2681.txt', '2183.txt', '1551.txt', '3087.txt', '3249.txt', '2225.txt', '3504.txt', '1971.txt', '2381.txt', '2682.txt', '2654.txt', '4026.txt', '3913.txt', '2954.txt', '3822.txt', '2196.txt', '3844.txt', '1660.txt', '2355.txt', '3548.txt', '3663.txt', '1953.txt', '1510.txt', '4020.txt', '3486.txt', '2913.txt', '4226.txt', '1602.txt', '2051.txt', '3239.txt', '2811.txt', '3372.txt', '1566.txt', '2195.txt', '3721.txt', '3129.txt', '3576.txt', '4137.txt', '1567.txt', '3673.txt', '2740.txt', '3163.txt', '3980.txt', '4139.txt', '3800.txt', '3325.txt', '1784.txt', '3782.txt', '3070.txt', '3637.txt', '3397.txt', '3213.txt', '2105.txt', '3629.txt', '3633.txt', '2902.txt', '1519.txt', '3933.txt', '3610.txt', '4070.txt', '2985.txt', '2878.txt', '2317.txt', '1588.txt', '2831.txt', '2644.txt', '4124.txt', '3874.txt', '2389.txt', '1963.txt', '2390.txt', '3391.txt', '3894.txt', '3695.txt', '2424.txt', '2066.txt', '2841.txt', '3467.txt', '2734.txt', '3520.txt', '3275.txt', '2758.txt', '2912.txt', '2980.txt', '2160.txt', '2162.txt', '4141.txt', '2064.txt', '2989.txt', '1554.txt', '3007.txt', '2316.txt', '1727.txt', '2086.txt', '3293.txt', '3544.txt', '2012.txt', '2284.txt', '2652.txt', '4265.txt', '2974.txt', '3621.txt', '2333.txt', '4134.txt', '3343.txt', '1549.txt', '4044.txt', '1638.txt', '3772.txt', '3521.txt', '2617.txt', '4034.txt', '3389.txt', '2967.txt', '1581.txt', '2716.txt', '2960.txt', '1925.txt', '1833.txt', '2324.txt', '1728.txt', '2305.txt', '1552.txt', '2521.txt', '4079.txt', '2915.txt', '1945.txt', '3915.txt', '1949.txt', '1984.txt', '2438.txt', '3562.txt', '3708.txt', '2927.txt', '1690.txt', '2790.txt', '2312.txt', '2327.txt', '3321.txt', '2808.txt', '3062.txt', '3569.txt', '3535.txt', '1878.txt', '1753.txt', '2072.txt', '3746.txt', '2311.txt', '3385.txt', '4217.txt', '1640.txt', '2058.txt', '2731.txt', '1865.txt', '2949.txt', '3547.txt', '2282.txt', '2773.txt', '3438.txt', '3924.txt', '1526.txt', '1934.txt', '4228.txt', '3241.txt', '2554.txt', '4241.txt', '2555.txt', '2858.txt', '1614.txt', '2675.txt', '1679.txt', '2722.txt', '2784.txt', '1666.txt', '3893.txt', '3470.txt', '1821.txt', '2013.txt', '3172.txt', '2357.txt', '3829.txt', '3358.txt', '2529.txt', '1563.txt', '4005.txt', '1528.txt', '2254.txt', '1621.txt', '2385.txt', '1669.txt', '4194.txt', '2884.txt', '2187.txt', '1796.txt', '1773.txt', '2856.txt', '1950.txt', '4100.txt', '3041.txt', '4075.txt', '3061.txt', '1817.txt', '2461.txt', '1749.txt', '1908.txt', '1882.txt', '3191.txt', '1593.txt', '3199.txt', '4138.txt', '2835.txt', '2320.txt', '2165.txt', '3301.txt', '3351.txt', '4110.txt', '3296.txt', '2604.txt', '3057.txt', '2433.txt', '3100.txt', '4045.txt', '3678.txt', '3247.txt', '2271.txt', '3597.txt', '4143.txt', '3616.txt', '2033.txt', '3784.txt', '2921.txt', '2367.txt', '1777.txt', '2625.txt', '3258.txt', '2666.txt', '2695.txt', '3909.txt', '2584.txt', '3565.txt', '3975.txt', '3476.txt', '4154.txt', '1756.txt', '2770.txt', '1518.txt', '2348.txt', '3995.txt', '1712.txt', '2469.txt', '3368.txt', '1895.txt', '3711.txt', '3976.txt', '3409.txt', '4184.txt', '3047.txt', '2344.txt', '2394.txt', '1990.txt', '2530.txt', '4068.txt', '2840.txt', '4004.txt', '1885.txt', '2277.txt', '2870.txt', '1944.txt', '2170.txt', '2150.txt', '3717.txt', '1683.txt', '3953.txt', '2263.txt', '1892.txt', '3950.txt', '2444.txt', '1888.txt', '2125.txt', '2781.txt', '3410.txt', '3484.txt', '1799.txt', '1587.txt', '2163.txt', '3731.txt', '3153.txt', '3216.txt', '3765.txt', '1642.txt', '4111.txt', '2843.txt', '3305.txt', '3940.txt', '2144.txt', '3766.txt', '2641.txt', '4171.txt', '3034.txt', '4108.txt', '1562.txt', '4126.txt', '3613.txt', '3943.txt', '2632.txt', '4237.txt', '2676.txt', '2630.txt', '2485.txt', '3447.txt', '4115.txt', '1782.txt', '2736.txt', '2235.txt', '1991.txt', '1986.txt', '3802.txt', '1572.txt', '3073.txt', '1627.txt', '2944.txt', '3776.txt', '2968.txt', '3619.txt', '1948.txt', '4181.txt', '3434.txt', '2220.txt', '1561.txt', '2371.txt', '3370.txt', '2068.txt', '3080.txt', '4049.txt', '2243.txt', '3574.txt', '3778.txt', '2232.txt', '2640.txt', '2577.txt', '3775.txt', '3559.txt', '1731.txt', '1697.txt', '1779.txt', '2725.txt', '2238.txt', '3798.txt', '1873.txt', '2844.txt', '3000.txt', '2351.txt', '2443.txt', '3292.txt', '4249.txt', '3970.txt', '4121.txt', '3853.txt', '3910.txt', '4015.txt', '2631.txt', '3788.txt', '2907.txt', '2211.txt', '3509.txt', '3115.txt', '3089.txt', '2199.txt', '3834.txt', '3951.txt', '3309.txt', '1570.txt', '2756.txt', '1905.txt', '3120.txt', '1574.txt', '3003.txt', '3553.txt', '2234.txt', '4119.txt', '1886.txt', '1723.txt', '3474.txt', '2464.txt', '2877.txt', '3268.txt', '1589.txt', '3141.txt', '1940.txt', '3440.txt', '2203.txt', '4056.txt', '3578.txt', '2191.txt', '1879.txt', '2543.txt', '3060.txt', '3406.txt', '1714.txt', '2536.txt', '4087.txt', '2181.txt', '4095.txt', '1959.txt', '3132.txt', '3932.txt', '2488.txt', '3841.txt', '4130.txt', '4167.txt', '2563.txt', '3097.txt', '3907.txt', '3363.txt', '3699.txt', '3106.txt', '3677.txt', '2869.txt', '3605.txt', '2323.txt', '3645.txt', '4150.txt', '3310.txt', '4116.txt', '1766.txt', '3813.txt', '2824.txt', '1802.txt', '2622.txt', '3340.txt', '4022.txt', '1582.txt', '1527.txt', '1921.txt', '4214.txt', '2672.txt', '3602.txt', '2838.txt', '3836.txt', '2329.txt', '3674.txt', '2729.txt', '3748.txt', '1616.txt', '2255.txt', '3734.txt', '2472.txt', '3701.txt', '3382.txt', '3692.txt', '3936.txt', '2040.txt', '2969.txt', '2089.txt', '2787.txt', '3212.txt', '3104.txt', '3904.txt', '3564.txt', '2406.txt', '4007.txt', '3118.txt', '3738.txt', '3388.txt', '3512.txt', '4041.txt', '1847.txt', '1502.txt', '2008.txt', '4242.txt', '4016.txt', '3233.txt', '2260.txt', '3204.txt', '3279.txt', '3942.txt', '2016.txt', '3669.txt', '1700.txt', '2251.txt', '2130.txt', '2943.txt', '4132.txt', '2572.txt', '2123.txt', '3507.txt', '1791.txt', '4257.txt', '3750.txt', '2087.txt', '3549.txt', '3851.txt', '4190.txt', '2224.txt', '3826.txt', '1851.txt', '4145.txt', '3375.txt', '2775.txt', '4014.txt', '3825.txt', '3331.txt', '4069.txt', '3408.txt', '1691.txt', '3814.txt', '3383.txt', '4199.txt', '1648.txt', '3878.txt', '3709.txt', '2906.txt', '3102.txt', '3899.txt', '3515.txt', '2069.txt', '3658.txt', '3121.txt', '4098.txt', '1981.txt', '2513.txt', '2945.txt', '2425.txt', '3752.txt', '1826.txt', '2326.txt', '2060.txt', '2309.txt', '3442.txt', '3591.txt', '4029.txt', '3177.txt', '4093.txt', '1780.txt', '3540.txt', '2527.txt', '1767.txt', '2562.txt', '3786.txt', '2547.txt', '3594.txt', '2029.txt', '2289.txt', '3345.txt', '3664.txt', '3289.txt', '3640.txt', '3667.txt', '4221.txt', '2335.txt', '2951.txt', '2551.txt', '2315.txt', '1534.txt', '1522.txt', '4201.txt', '2933.txt', '1781.txt', '2576.txt', '3248.txt', '2161.txt', '3250.txt', '1738.txt', '3811.txt', '1609.txt', '1868.txt', '3074.txt', '2830.txt', '3495.txt', '4152.txt', '3687.txt', '3722.txt', '2372.txt', '3164.txt', '2996.txt', '2052.txt', '1932.txt', '2336.txt', '3439.txt', '3201.txt', '1579.txt', '3208.txt', '3527.txt', '3436.txt', '2510.txt', '3157.txt', '2135.txt', '1721.txt', '3608.txt', '3714.txt', '3929.txt', '3713.txt', '3267.txt', '2436.txt', '2484.txt', '2992.txt', '2301.txt', '2214.txt', '2894.txt', '2721.txt', '3955.txt', '2706.txt', '2553.txt', '3644.txt', '2127.txt', '4156.txt', '3536.txt', '3398.txt', '2806.txt', '1645.txt', '1907.txt', '1580.txt', '3018.txt', '3654.txt', '2439.txt', '4164.txt', '2972.txt', '2294.txt', '2231.txt', '2926.txt', '3609.txt', '1939.txt', '1761.txt', '3178.txt', '3067.txt', '3483.txt', '3700.txt', '1968.txt', '3103.txt', '2296.txt', '3996.txt', '3568.txt', '3626.txt', '3603.txt', '1533.txt', '3627.txt', '2559.txt', '4040.txt', '2930.txt', '3704.txt', '1612.txt', '1930.txt', '2823.txt', '1927.txt', '3865.txt', '2261.txt', '4129.txt', '3251.txt', '3514.txt', '2839.txt', '3441.txt', '2546.txt', '4245.txt', '1889.txt', '4053.txt', '3327.txt', '2262.txt', '2090.txt', '2957.txt', '3323.txt', '2792.txt', '3243.txt', '2846.txt', '3337.txt', '1594.txt', '2266.txt', '2434.txt', '1600.txt', '3493.txt', '3724.txt', '1924.txt', '1520.txt', '2276.txt', '1805.txt', '2612.txt', '2760.txt', '3288.txt', '2809.txt', '2413.txt', '3128.txt', '2083.txt', '1972.txt', '3889.txt', '3152.txt', '3751.txt', '2182.txt', '3469.txt', '2670.txt', '2619.txt', '3218.txt', '2623.txt', '2393.txt', '3347.txt', '2084.txt', '2169.txt', '3716.txt', '2883.txt', '2583.txt', '2942.txt', '2292.txt', '2849.txt', '2662.txt', '1663.txt', '3184.txt', '3404.txt', '3956.txt', '2850.txt', '2936.txt', '2696.txt', '4107.txt', '4175.txt', '2098.txt', '2059.txt', '3008.txt', '3186.txt', '2746.txt', '2075.txt', '2177.txt', '3816.txt', '3747.txt', '3505.txt', '2892.txt', '1923.txt', '3987.txt', '2765.txt', '2097.txt', '3920.txt', '3759.txt', '3908.txt', '4066.txt', '2428.txt', '2462.txt', '4186.txt', '3020.txt', '3161.txt', '3998.txt', '2605.txt', '1912.txt', '2932.txt', '4054.txt', '3069.txt', '3037.txt', '2096.txt', '3333.txt', '2851.txt', '2602.txt', '3266.txt', '2854.txt', '4037.txt', '3587.txt', '3850.txt', '2499.txt', '4172.txt', '3607.txt', '3136.txt', '1870.txt', '3783.txt', '2533.txt', '3705.txt', '1893.txt', '2493.txt', '3726.txt', '3945.txt', '1823.txt', '2732.txt', '2650.txt', '3861.txt', '3728.txt', '3498.txt', '3930.txt', '3754.txt', '1832.txt', '3827.txt', '3791.txt', '3405.txt', '3497.txt', '4185.txt', '3371.txt', '1816.txt', '1877.txt', '3019.txt', '3229.txt', '3295.txt', '2339.txt', '4071.txt', '2145.txt', '1641.txt', '3743.txt', '4125.txt', '4230.txt', '2748.txt', '4092.txt', '2496.txt', '2826.txt', '1575.txt', '2970.txt', '3334.txt', '1788.txt', '2998.txt', '3415.txt', '1635.txt', '2807.txt', '3348.txt', '3855.txt', '3176.txt', '2642.txt', '3777.txt', '2164.txt', '1995.txt', '2497.txt', '2440.txt', '3538.txt', '3202.txt', '1653.txt', '3197.txt', '3168.txt', '1675.txt', '2015.txt', '2816.txt', '2541.txt', '4006.txt', '3740.txt', '3280.txt', '2486.txt', '2896.txt', '1730.txt', '1985.txt', '3393.txt', '2248.txt', '2537.txt', '1741.txt', '1969.txt', '1702.txt', '1569.txt', '2961.txt', '2302.txt', '2053.txt', '3733.txt', '2134.txt', '1553.txt', '1713.txt', '3601.txt', '2046.txt', '3148.txt', '2124.txt', '4030.txt', '3185.txt', '3584.txt', '4224.txt', '3937.txt', '1608.txt', '2766.txt', '2153.txt', '2761.txt', '3091.txt', '3988.txt', '3676.txt', '2796.txt', '4013.txt', '1992.txt', '3443.txt', '2783.txt', '2975.txt', '1839.txt', '3606.txt', '2552.txt', '2330.txt', '2386.txt', '3927.txt', '2011.txt', '2815.txt', '3155.txt', '2418.txt', '2511.txt', '2946.txt', '3839.txt', '4010.txt', '1964.txt', '2473.txt', '2635.txt', '3494.txt', '3573.txt', '1988.txt', '4213.txt', '2001.txt', '4118.txt', '4122.txt', '2879.txt', '3195.txt', '2093.txt', '1887.txt', '1698.txt', '3911.txt', '3014.txt', '2092.txt', '1734.txt', '3835.txt', '3346.txt', '2540.txt', '3045.txt', '1603.txt', '1806.txt', '2810.txt', '3492.txt', '3413.txt', '2797.txt', '3236.txt', '1866.txt', '2021.txt', '3429.txt', '1668.txt', '4212.txt', '2799.txt', '1960.txt', '2283.txt', '3317.txt', '3376.txt', '2487.txt', '1260.txt', '0185.txt', '0686.txt', '1041.txt', '1272.txt', '1079.txt', '1212.txt', '0131.txt', '0025.txt', '0787.txt', '0778.txt', '0992.txt', '0370.txt', '0562.txt', '1096.txt', '1182.txt', '0170.txt', '0122.txt', '0173.txt', '1078.txt', '1083.txt', '0535.txt', '0013.txt', '0773.txt', '0162.txt', '0593.txt', '0406.txt', '0881.txt', '0035.txt', '1144.txt', '1337.txt', '0768.txt', '0704.txt', '0101.txt', '0457.txt', '0021.txt', '0257.txt', '1407.txt', '0633.txt', '0597.txt', '1076.txt', '0416.txt', '0508.txt', '0820.txt', '1115.txt', '0073.txt', '1286.txt', '0786.txt', '0344.txt', '0701.txt', '0049.txt', '0115.txt', '1296.txt', '1137.txt', '0732.txt', '0563.txt', '1435.txt', '0647.txt', '0729.txt', '0966.txt', '0252.txt', '0304.txt', '0574.txt', '0756.txt', '0232.txt', '1434.txt', '0850.txt', '0730.txt', '0503.txt', '0695.txt', '1106.txt', '1239.txt', '0274.txt', '0139.txt', '1126.txt', '1446.txt', '0296.txt', '0048.txt', '1110.txt', '0819.txt', '0619.txt', '0584.txt', '1042.txt', '1198.txt', '1153.txt', '1185.txt', '1378.txt', '0091.txt', '0745.txt', '0996.txt', '1017.txt', '0171.txt', '0345.txt', '0199.txt', '0486.txt', '1327.txt', '1414.txt', '1016.txt', '0222.txt', '0426.txt', '1071.txt', '1128.txt', '0815.txt', '1179.txt', '0678.txt', '0295.txt', '0803.txt', '1230.txt', '0330.txt', '0886.txt', '0346.txt', '0718.txt', '1005.txt', '1203.txt', '1181.txt', '0247.txt', '0080.txt', '0269.txt', '0166.txt', '1052.txt', '0030.txt', '1068.txt', '1238.txt', '1444.txt', '0135.txt', '0626.txt', '0866.txt', '0238.txt', '1095.txt', '1494.txt', '0477.txt', '0972.txt', '0395.txt', '0104.txt', '1021.txt', '0002.txt', '0872.txt', '1276.txt', '0912.txt', '1136.txt', '0297.txt', '0794.txt', '1175.txt', '1419.txt', '0288.txt', '1409.txt', '1351.txt', '0630.txt', '1233.txt', '1166.txt', '1247.txt', '0964.txt', '0909.txt', '0784.txt', '0823.txt', '0179.txt', '1168.txt', '1051.txt', '1429.txt', '1484.txt', '0068.txt', '1224.txt', '1191.txt', '0831.txt', '0219.txt', '0423.txt', '0404.txt', '0275.txt', '1029.txt', '0846.txt', '0511.txt', '0692.txt', '0108.txt', '1284.txt', '1443.txt', '1319.txt', '0917.txt', '1138.txt', '0129.txt', '0935.txt', '1250.txt', '0640.txt', '0299.txt', '0433.txt', '1226.txt', '1479.txt', '1025.txt', '0487.txt', '0672.txt', '1420.txt', '0140.txt', '0311.txt', '0335.txt', '0800.txt', '0407.txt', '0763.txt', '0926.txt', '0859.txt', '1289.txt', '0882.txt', '1356.txt', '0134.txt', '1381.txt', '1279.txt', '0098.txt', '0458.txt', '0663.txt', '0655.txt', '0053.txt', '0646.txt', '0895.txt', '0727.txt', '0119.txt', '0610.txt', '0641.txt', '1116.txt', '0100.txt', '0286.txt', '1163.txt', '0780.txt', '0087.txt', '1465.txt', '0725.txt', '1452.txt', '1336.txt', '0365.txt', '1031.txt', '0067.txt', '1358.txt', '1037.txt', '0675.txt', '0546.txt', '1259.txt', '0890.txt', '1280.txt', '0005.txt', '0679.txt', '0709.txt', '0032.txt', '1274.txt', '0434.txt', '1343.txt', '0941.txt', '0639.txt', '1109.txt', '1499.txt', '0293.txt', '0697.txt', '0313.txt', '0316.txt', '0142.txt', '0405.txt', '0761.txt', '0953.txt', '0284.txt', '0145.txt', '0949.txt', '0631.txt', '1323.txt', '0573.txt', '0465.txt', '0036.txt', '1305.txt', '0604.txt', '0561.txt', '0539.txt', '0097.txt', '0514.txt', '0690.txt', '1056.txt', '0121.txt', '1331.txt', '1195.txt', '0887.txt', '0945.txt', '1047.txt', '1206.txt', '0923.txt', '1177.txt', '1316.txt', '1065.txt', '0919.txt', '0876.txt', '0892.txt', '0197.txt', '0714.txt', '0602.txt', '0752.txt', '0673.txt', '0500.txt', '0994.txt', '0921.txt', '0461.txt', '0409.txt', '0775.txt', '0903.txt', '0951.txt', '1437.txt', '0031.txt', '1288.txt', '0471.txt', '1416.txt', '0281.txt', '0120.txt', '0565.txt', '0378.txt', '1104.txt', '0765.txt', '1240.txt', '0267.txt', '1473.txt', '0698.txt', '0832.txt', '0292.txt', '1014.txt', '0969.txt', '1082.txt', '0276.txt', '0693.txt', '0076.txt', '0580.txt', '0250.txt', '0877.txt', '0332.txt', '0387.txt', '0123.txt', '0798.txt', '0860.txt', '0253.txt', '0202.txt', '1433.txt', '0710.txt', '1324.txt', '0856.txt', '0904.txt', '1131.txt', '0801.txt', '1454.txt', '0650.txt', '0215.txt', '0205.txt', '0187.txt', '0064.txt', '0840.txt', '1201.txt', '0493.txt', '1477.txt', '0854.txt', '1362.txt', '1253.txt', '0168.txt', '0272.txt', '0670.txt', '0656.txt', '0617.txt', '1332.txt', '1417.txt', '0609.txt', '0839.txt', '1340.txt', '0985.txt', '0427.txt', '1301.txt', '0529.txt', '0623.txt', '0473.txt', '1196.txt', '0146.txt', '1102.txt', '0059.txt', '0263.txt', '0955.txt', '0849.txt', '1114.txt', '0322.txt', '0769.txt', '1405.txt', '0790.txt', '0412.txt', '0358.txt', '0382.txt', '0176.txt', '0717.txt', '1372.txt', '0463.txt', '1269.txt', '1303.txt', '0874.txt', '0063.txt', '0753.txt', '0415.txt', '0845.txt', '0163.txt', '0298.txt', '1246.txt', '1342.txt', '0947.txt', '0804.txt', '0576.txt', '1386.txt', '1186.txt', '0018.txt', '0260.txt', '0807.txt', '0796.txt', '1256.txt', '0321.txt', '1398.txt', '0948.txt', '0289.txt', '0377.txt', '1148.txt', '0530.txt', '1252.txt', '1003.txt', '1209.txt', '1243.txt', '1451.txt', '0967.txt', '0666.txt', '0596.txt', '1227.txt', '0334.txt', '1020.txt', '0928.txt', '0264.txt', '1210.txt', '0962.txt', '1080.txt', '0258.txt', '1225.txt', '1066.txt', '0220.txt', '1251.txt', '1321.txt', '0707.txt', '1081.txt', '0771.txt', '1072.txt', '0437.txt', '0155.txt', '0644.txt', '1413.txt', '0944.txt', '1222.txt', '1440.txt', '1304.txt', '0993.txt', '0560.txt', '1330.txt', '0110.txt', '1292.txt', '0454.txt', '0164.txt', '0312.txt', '0999.txt', '1248.txt', '1492.txt', '1156.txt', '0352.txt', '0072.txt', '1496.txt', '1364.txt', '0118.txt', '0326.txt', '0203.txt', '0271.txt', '0541.txt', '0450.txt', '0891.txt', '0015.txt', '0448.txt', '0898.txt', '0446.txt', '0902.txt', '0548.txt', '0023.txt', '0014.txt', '0622.txt', '0931.txt', '0294.txt', '0984.txt', '0816.txt', '0662.txt', '0833.txt', '0620.txt', '1391.txt', '0571.txt', '0660.txt', '0658.txt', '1463.txt', '1235.txt', '0537.txt', '0227.txt', '1341.txt', '0039.txt', '0958.txt', '1094.txt', '0095.txt', '1370.txt', '0401.txt', '0265.txt', '1220.txt', '0256.txt', '0906.txt', '1456.txt', '0116.txt', '0051.txt', '1302.txt', '0235.txt', '0308.txt', '0191.txt', '0127.txt', '0501.txt', '0228.txt', '1354.txt', '0329.txt', '1317.txt', '1427.txt', '0310.txt', '0204.txt', '0826.txt', '0239.txt', '1350.txt', '1077.txt', '0065.txt', '0224.txt', '1387.txt', '0449.txt', '0589.txt', '0625.txt', '1039.txt', '0797.txt', '0642.txt', '0682.txt', '0842.txt', '1384.txt', '0061.txt', '0152.txt', '0342.txt', '0062.txt', '0512.txt', '0975.txt', '0381.txt', '0240.txt', '0327.txt', '0211.txt', '0184.txt', '1050.txt', '0880.txt', '0532.txt', '1412.txt', '0181.txt', '0194.txt', '1075.txt', '1491.txt', '1461.txt', '1297.txt', '0441.txt', '0392.txt', '0847.txt', '0017.txt', '1160.txt', '1493.txt', '0516.txt', '0159.txt', '0858.txt', '1282.txt', '0901.txt', '0150.txt', '0084.txt', '1178.txt', '0422.txt', '0372.txt', '0764.txt', '0879.txt', '0762.txt', '0817.txt', '1204.txt', '1165.txt', '0600.txt', '0371.txt', '1097.txt', '0223.txt', '0137.txt', '0664.txt', '0341.txt', '0922.txt', '0713.txt', '0568.txt', '1270.txt', '0431.txt', '1242.txt', '0314.txt', '0624.txt', '0911.txt', '1004.txt', '0976.txt', '0490.txt', '0008.txt', '0037.txt', '0482.txt', '0547.txt', '0587.txt', '1184.txt', '1211.txt', '0386.txt', '0837.txt', '1263.txt', '0821.txt', '0943.txt', '1200.txt', '1030.txt', '1353.txt', '1478.txt', '1426.txt', '0057.txt', '0502.txt', '1485.txt', '0799.txt', '0391.txt', '0987.txt', '1219.txt', '1171.txt', '0241.txt', '0189.txt', '1139.txt', '1197.txt', '1359.txt', '0160.txt', '1070.txt', '0755.txt', '0469.txt', '0700.txt', '0254.txt', '0479.txt', '1266.txt', '0033.txt', '0531.txt', '0301.txt', '0495.txt', '0060.txt', '1255.txt', '1174.txt', '0309.txt', '1404.txt', '0169.txt', '0978.txt', '1040.txt', '0550.txt', '0543.txt', '0196.txt', '0144.txt', '1120.txt', '0443.txt', '0888.txt', '0861.txt', '0772.txt', '0414.txt', '1488.txt', '1448.txt', '1275.txt', '1483.txt', '0363.txt', '0207.txt', '0475.txt', '1176.txt', '0818.txt', '1423.txt', '1010.txt', '0038.txt', '1472.txt', '0939.txt', '0683.txt', '0956.txt', '0519.txt', '1355.txt', '0451.txt', '0468.txt', '0303.txt', '1283.txt', '1439.txt', '0004.txt', '0498.txt', '0229.txt', '0982.txt', '0174.txt', '1046.txt', '0708.txt', '1098.txt', '1155.txt', '1273.txt', '1015.txt', '0070.txt', '1143.txt', '0742.txt', '1431.txt', '1167.txt', '1310.txt', '1468.txt', '0952.txt', '0990.txt', '0339.txt', '1190.txt', '0353.txt', '0830.txt', '1112.txt', '1307.txt', '1205.txt', '0151.txt', '1012.txt', '0776.txt', '0417.txt', '1345.txt', '1117.txt', '0399.txt', '0455.txt', '1366.txt', '1318.txt', '0305.txt', '0594.txt', '1146.txt', '0050.txt', '0459.txt', '1393.txt', '1058.txt', '0834.txt', '0960.txt', '1277.txt', '0347.txt', '0445.txt', '0361.txt', '0521.txt', '1470.txt', '0652.txt', '0760.txt', '1088.txt', '0206.txt', '0178.txt', '0348.txt', '0085.txt', '0809.txt', '0929.txt', '0927.txt', '0556.txt', '1002.txt', '0466.txt', '1124.txt', '0413.txt', '0300.txt', '1223.txt', '0534.txt', '0262.txt', '0579.txt', '0492.txt', '0889.txt', '0225.txt', '0424.txt', '0525.txt', '0808.txt', '0959.txt', '1347.txt', '1432.txt', '0325.txt', '1026.txt', '1121.txt', '0914.txt', '0058.txt', '1459.txt', '0507.txt', '1188.txt', '0566.txt', '1450.txt', '0074.txt', '0669.txt', '1385.txt', '1249.txt', '0536.txt', '0380.txt', '1018.txt', '1300.txt', '0973.txt', '0635.txt', '1199.txt', '0447.txt', '0651.txt', '1193.txt', '0813.txt', '0079.txt', '1487.txt', '0618.txt', '0107.txt', '0133.txt', '0586.txt', '1125.txt', '0243.txt', '1410.txt', '0950.txt', '1455.txt', '0918.txt', '0165.txt', '0132.txt', '0937.txt', '1006.txt', '0795.txt', '0282.txt', '0848.txt', '0838.txt', '1495.txt', '0524.txt', '1150.txt', '0273.txt', '0056.txt', '0791.txt', '0147.txt', '0317.txt', '0472.txt', '1108.txt', '0231.txt', '1306.txt', '1481.txt', '0606.txt', '0324.txt', '0217.txt', '1290.txt', '0835.txt', '0212.txt', '1234.txt', '0200.txt', '1453.txt', '0226.txt', '0970.txt', '1237.txt', '0783.txt', '1403.txt', '0674.txt', '0099.txt', '0863.txt', '1371.txt', '1207.txt', '0933.txt', '0375.txt', '0042.txt', '0657.txt', '0075.txt', '1392.txt', '1141.txt', '0867.txt', '1221.txt', '0349.txt', '0934.txt', '1346.txt', '0774.txt', '0044.txt', '0237.txt', '0559.txt', '0476.txt', '0384.txt', '1438.txt', '0248.txt', '1164.txt', '0373.txt', '1044.txt', '1142.txt', '0444.txt', '0963.txt', '0096.txt', '1314.txt', '1333.txt', '0567.txt', '0467.txt', '0595.txt', '0706.txt', '1258.txt', '0506.txt', '0306.txt', '0103.txt', '0751.txt', '1074.txt', '1408.txt', '1149.txt', '0852.txt', '0721.txt', '0894.txt', '0491.txt', '0896.txt', '0694.txt', '0268.txt', '0354.txt', '0989.txt', '0738.txt', '0905.txt', '0980.txt', '1133.txt', '1229.txt', '1214.txt', '0478.txt', '0687.txt', '0668.txt', '0357.txt', '1001.txt', '0485.txt', '0154.txt', '0394.txt', '0279.txt', '0410.txt', '0438.txt', '0520.txt', '0661.txt', '0078.txt', '0462.txt', '0509.txt', '0148.txt', '0383.txt', '0781.txt', '0464.txt', '1441.txt', '1396.txt', '0398.txt', '0183.txt', '0932.txt', '0113.txt', '0789.txt', '0621.txt', '1038.txt', '0575.txt', '0421.txt', '0307.txt', '0214.txt', '0041.txt', '0628.txt', '0749.txt', '0740.txt', '0367.txt', '0554.txt', '1422.txt', '0428.txt', '0153.txt', '0685.txt', '0340.txt', '0388.txt', '1085.txt', '0884.txt', '1067.txt', '0489.txt', '1090.txt', '0603.txt', '0743.txt', '0046.txt', '1008.txt', '0105.txt', '1161.txt', '1474.txt', '1024.txt', '0864.txt', '0703.txt', '0510.txt', '0368.txt', '1123.txt', '1462.txt', '0402.txt', '1009.txt', '0737.txt', '1264.txt', '0869.txt', '0659.txt', '0971.txt', '0736.txt', '0599.txt', '1007.txt', '1365.txt', '0528.txt', '1399.txt', '0216.txt', '0000.txt', '0221.txt', '0779.txt', '0003.txt', '0027.txt', '1216.txt', '0667.txt', '1084.txt', '0143.txt', '0012.txt', '0266.txt', '1486.txt', '1322.txt', '0128.txt', '1447.txt', '1380.txt', '0767.txt', '1278.txt', '1313.txt', '0188.txt', '0810.txt', '0750.txt', '1192.txt', '0470.txt', '1411.txt', '0938.txt', '0356.txt', '0634.txt', '0261.txt', '1217.txt', '1449.txt', '1059.txt', '0236.txt', '1053.txt', '0523.txt', '0828.txt', '0201.txt', '0114.txt', '0439.txt', '0986.txt', '0759.txt', '0770.txt', '0350.txt', '0318.txt', '0857.txt', '1189.txt', '1140.txt', '1400.txt', '0885.txt', '1257.txt', '1425.txt', '0192.txt', '0636.txt', '0484.txt', '0245.txt', '1169.txt', '0758.txt', '1480.txt', '1466.txt', '0177.txt', '0802.txt', '1344.txt', '0865.txt', '0158.txt', '0793.txt', '1397.txt', '1151.txt', '0988.txt', '0020.txt', '0853.txt', '0149.txt', '1231.txt', '1382.txt', '0337.txt', '0089.txt', '0665.txt', '0280.txt', '1152.txt', '0278.txt', '0390.txt', '0287.txt', '0883.txt', '0009.txt', '0614.txt', '0916.txt', '1285.txt', '0569.txt', '0654.txt', '0411.txt', '0518.txt', '0336.txt', '0418.txt', '0868.txt', '0722.txt', '0913.txt', '0908.txt', '0077.txt', '1349.txt', '0093.txt', '0429.txt', '0900.txt', '1352.txt', '0022.txt', '0981.txt', '1129.txt', '0862.txt', '0425.txt', '0805.txt', '0680.txt', '1436.txt', '1402.txt', '1442.txt', '0364.txt', '0112.txt', '0811.txt', '1099.txt', '1368.txt', '0527.txt', '0045.txt', '0552.txt', '0998.txt', '1147.txt', '0715.txt', '1328.txt', '0043.txt', '1265.txt', '0731.txt', '1173.txt', '0019.txt', '1045.txt', '1293.txt', '0723.txt', '1035.txt', '0915.txt', '0397.txt', '0705.txt', '0829.txt', '1170.txt', '0011.txt', '1464.txt', '1424.txt', '0653.txt', '0125.txt', '0010.txt', '0542.txt', '0910.txt', '0591.txt', '0106.txt', '0242.txt', '1111.txt', '1476.txt', '1135.txt', '1054.txt', '0744.txt', '0302.txt', '0351.txt', '0878.txt', '0126.txt', '0766.txt', '1057.txt', '1089.txt', '0249.txt', '0396.txt', '1430.txt', '0814.txt', '0323.txt', '0436.txt', '1048.txt', '0578.txt', '1034.txt', '1232.txt', '0213.txt', '0432.txt', '1339.txt', '0496.txt', '1294.txt', '0812.txt', '0806.txt', '0028.txt', '0754.txt', '1291.txt', '0494.txt', '0290.txt', '1281.txt', '0733.txt', '0607.txt', '0338.txt', '0757.txt', '0136.txt', '0186.txt', '1119.txt', '1388.txt', '0940.txt', '0613.txt', '0259.txt', '0627.txt', '1202.txt', '1298.txt', '1287.txt', '0702.txt', '0355.txt', '0376.txt', '0360.txt', '1394.txt', '0870.txt', '0924.txt', '0551.txt', '1377.txt', '0328.txt', '0553.txt', '0054.txt', '0488.txt', '1271.txt', '0598.txt', '1471.txt', '0141.txt', '1022.txt', '0612.txt', '1236.txt', '0069.txt', '0734.txt', '1390.txt', '0244.txt', '1415.txt', '0649.txt', '1312.txt', '0066.txt', '0016.txt', '0930.txt', '0995.txt', '0582.txt', '0608.txt', '0172.txt', '1187.txt', '1320.txt', '0081.txt', '0844.txt', '0283.txt', '1157.txt', '0251.txt', '0968.txt', '0320.txt', '1113.txt', '1073.txt', '0385.txt', '0180.txt', '1421.txt', '1208.txt', '0549.txt', '1308.txt', '0389.txt', '0746.txt', '1105.txt', '0460.txt', '1130.txt', '1268.txt', '1379.txt', '0474.txt', '0419.txt', '1267.txt', '1373.txt', '0920.txt', '0094.txt', '0130.txt', '1027.txt', '0026.txt', '0040.txt', '0825.txt', '0824.txt', '1418.txt', '0029.txt', '1033.txt', '0979.txt', '0343.txt', '0843.txt', '0333.txt', '1061.txt', '0109.txt', '0671.txt', '1107.txt', '0230.txt', '1315.txt', '1087.txt', '0645.txt', '0684.txt', '0210.txt', '1013.txt', '1069.txt', '0572.txt', '1093.txt', '1032.txt', '0291.txt', '1357.txt', '0592.txt', '0638.txt', '1348.txt', '1467.txt', '0544.txt', '1000.txt', '0499.txt', '1262.txt', '0570.txt', '0822.txt', '0696.txt', '0190.txt', '0977.txt', '1172.txt', '0420.txt', '0691.txt', '0974.txt', '0047.txt', '1363.txt', '0156.txt', '0167.txt', '1011.txt', '0366.txt', '0138.txt', '0899.txt', '0208.txt', '0893.txt', '0277.txt', '1019.txt', '0676.txt', '0006.txt', '1228.txt', '1062.txt', '1475.txt', '0590.txt', '0836.txt', '1482.txt', '0540.txt', '0545.txt', '1309.txt', '0157.txt', '1395.txt', '0983.txt', '0515.txt', '0117.txt', '0841.txt', '0689.txt', '0855.txt', '1245.txt', '0851.txt', '1145.txt', '1338.txt', '1498.txt', '1100.txt', '0719.txt', '1374.txt', '1036.txt', '1428.txt', '1469.txt', '1261.txt', '1460.txt', '1049.txt', '0735.txt', '0007.txt', '1457.txt', '0897.txt', '1194.txt', '0526.txt', '1335.txt', '0374.txt', '0246.txt', '1497.txt', '0218.txt', '0442.txt', '0611.txt', '0102.txt', '1367.txt', '1490.txt', '1183.txt', '0785.txt', '0827.txt', '0440.txt', '0712.txt', '0588.txt', '0936.txt', '0739.txt', '1383.txt', '0483.txt', '1103.txt', '0997.txt', '0716.txt', '0456.txt', '0677.txt', '0605.txt', '1334.txt', '1086.txt', '0088.txt', '0728.txt', '0699.txt', '1134.txt', '0408.txt', '0052.txt', '0942.txt', '0400.txt', '0319.txt', '0782.txt', '0726.txt', '1445.txt', '0788.txt', '0629.txt', '0961.txt', '0024.txt', '0748.txt', '0362.txt', '0481.txt', '0092.txt', '0517.txt', '1295.txt', '0198.txt', '0359.txt', '0871.txt', '0504.txt', '0505.txt', '0557.txt', '0616.txt', '0792.txt', '0577.txt', '0255.txt', '0379.txt', '0480.txt', '0369.txt', '1369.txt', '0111.txt', '1180.txt', '0875.txt', '0082.txt', '1325.txt', '0681.txt', '0403.txt', '0925.txt', '0724.txt', '0182.txt', '0585.txt', '1060.txt', '0430.txt', '0055.txt', '0071.txt', '0522.txt', '0175.txt', '0090.txt', '0643.txt', '0907.txt', '1360.txt', '0637.txt', '1101.txt', '0285.txt', '1376.txt', '0453.txt', '1023.txt', '0581.txt', '0873.txt', '0161.txt', '1406.txt', '1218.txt', '1043.txt', '1244.txt', '0632.txt', '1118.txt', '1311.txt', '1389.txt', '1401.txt', '0954.txt', '0083.txt', '1329.txt', '0615.txt', '0957.txt', '1254.txt', '0538.txt', '0315.txt', '0558.txt', '0209.txt', '1132.txt', '1299.txt', '1375.txt', '0086.txt', '1064.txt', '1158.txt', '0034.txt', '0555.txt', '1063.txt', '0533.txt', '0234.txt', '1326.txt', '0001.txt', '0233.txt', '1213.txt', '1154.txt', '0331.txt', '1159.txt', '1241.txt', '0946.txt', '0124.txt', '0513.txt', '0688.txt', '1055.txt', '0393.txt', '0270.txt', '0583.txt']\n"
          ]
        }
      ]
    },
    {
      "cell_type": "code",
      "source": [
        "df = pd.read_csv(\"merged_file.csv\")"
      ],
      "metadata": {
        "id": "IfK7YJz1ikIl"
      },
      "execution_count": 12,
      "outputs": []
    },
    {
      "cell_type": "code",
      "source": [
        "df.head()"
      ],
      "metadata": {
        "colab": {
          "base_uri": "https://localhost:8080/",
          "height": 206
        },
        "id": "VBTrI1nejYv5",
        "outputId": "a535f0fb-346d-4c46-ad50-2318ff55f74f"
      },
      "execution_count": 13,
      "outputs": [
        {
          "output_type": "execute_result",
          "data": {
            "text/plain": [
              "   filename                                            content\n",
              "0  4506.txt  نجحت شركة الصكوك الوطنية، في ضم 70 مليونيراً إ...\n",
              "1  3513.txt  ارتفع مؤشر سوق الإمارات المالي الصادر عن هيئة ...\n",
              "2  0711.txt  ذكر محللون أمس ان قيمة درهم الامارات ستزيد بنس...\n",
              "3  3694.txt  غلبت الإغلاقات الحمراء والتراجع على أسواق المن...\n",
              "4  0648.txt  أبوظبي ــ «الخليج»: واصل سوق أبوظبي للأوراق ال..."
            ],
            "text/html": [
              "\n",
              "  <div id=\"df-bf28a2ef-cabf-46c1-8b33-4e9631e1f644\">\n",
              "    <div class=\"colab-df-container\">\n",
              "      <div>\n",
              "<style scoped>\n",
              "    .dataframe tbody tr th:only-of-type {\n",
              "        vertical-align: middle;\n",
              "    }\n",
              "\n",
              "    .dataframe tbody tr th {\n",
              "        vertical-align: top;\n",
              "    }\n",
              "\n",
              "    .dataframe thead th {\n",
              "        text-align: right;\n",
              "    }\n",
              "</style>\n",
              "<table border=\"1\" class=\"dataframe\">\n",
              "  <thead>\n",
              "    <tr style=\"text-align: right;\">\n",
              "      <th></th>\n",
              "      <th>filename</th>\n",
              "      <th>content</th>\n",
              "    </tr>\n",
              "  </thead>\n",
              "  <tbody>\n",
              "    <tr>\n",
              "      <th>0</th>\n",
              "      <td>4506.txt</td>\n",
              "      <td>نجحت شركة الصكوك الوطنية، في ضم 70 مليونيراً إ...</td>\n",
              "    </tr>\n",
              "    <tr>\n",
              "      <th>1</th>\n",
              "      <td>3513.txt</td>\n",
              "      <td>ارتفع مؤشر سوق الإمارات المالي الصادر عن هيئة ...</td>\n",
              "    </tr>\n",
              "    <tr>\n",
              "      <th>2</th>\n",
              "      <td>0711.txt</td>\n",
              "      <td>ذكر محللون أمس ان قيمة درهم الامارات ستزيد بنس...</td>\n",
              "    </tr>\n",
              "    <tr>\n",
              "      <th>3</th>\n",
              "      <td>3694.txt</td>\n",
              "      <td>غلبت الإغلاقات الحمراء والتراجع على أسواق المن...</td>\n",
              "    </tr>\n",
              "    <tr>\n",
              "      <th>4</th>\n",
              "      <td>0648.txt</td>\n",
              "      <td>أبوظبي ــ «الخليج»: واصل سوق أبوظبي للأوراق ال...</td>\n",
              "    </tr>\n",
              "  </tbody>\n",
              "</table>\n",
              "</div>\n",
              "      <button class=\"colab-df-convert\" onclick=\"convertToInteractive('df-bf28a2ef-cabf-46c1-8b33-4e9631e1f644')\"\n",
              "              title=\"Convert this dataframe to an interactive table.\"\n",
              "              style=\"display:none;\">\n",
              "        \n",
              "  <svg xmlns=\"http://www.w3.org/2000/svg\" height=\"24px\"viewBox=\"0 0 24 24\"\n",
              "       width=\"24px\">\n",
              "    <path d=\"M0 0h24v24H0V0z\" fill=\"none\"/>\n",
              "    <path d=\"M18.56 5.44l.94 2.06.94-2.06 2.06-.94-2.06-.94-.94-2.06-.94 2.06-2.06.94zm-11 1L8.5 8.5l.94-2.06 2.06-.94-2.06-.94L8.5 2.5l-.94 2.06-2.06.94zm10 10l.94 2.06.94-2.06 2.06-.94-2.06-.94-.94-2.06-.94 2.06-2.06.94z\"/><path d=\"M17.41 7.96l-1.37-1.37c-.4-.4-.92-.59-1.43-.59-.52 0-1.04.2-1.43.59L10.3 9.45l-7.72 7.72c-.78.78-.78 2.05 0 2.83L4 21.41c.39.39.9.59 1.41.59.51 0 1.02-.2 1.41-.59l7.78-7.78 2.81-2.81c.8-.78.8-2.07 0-2.86zM5.41 20L4 18.59l7.72-7.72 1.47 1.35L5.41 20z\"/>\n",
              "  </svg>\n",
              "      </button>\n",
              "      \n",
              "  <style>\n",
              "    .colab-df-container {\n",
              "      display:flex;\n",
              "      flex-wrap:wrap;\n",
              "      gap: 12px;\n",
              "    }\n",
              "\n",
              "    .colab-df-convert {\n",
              "      background-color: #E8F0FE;\n",
              "      border: none;\n",
              "      border-radius: 50%;\n",
              "      cursor: pointer;\n",
              "      display: none;\n",
              "      fill: #1967D2;\n",
              "      height: 32px;\n",
              "      padding: 0 0 0 0;\n",
              "      width: 32px;\n",
              "    }\n",
              "\n",
              "    .colab-df-convert:hover {\n",
              "      background-color: #E2EBFA;\n",
              "      box-shadow: 0px 1px 2px rgba(60, 64, 67, 0.3), 0px 1px 3px 1px rgba(60, 64, 67, 0.15);\n",
              "      fill: #174EA6;\n",
              "    }\n",
              "\n",
              "    [theme=dark] .colab-df-convert {\n",
              "      background-color: #3B4455;\n",
              "      fill: #D2E3FC;\n",
              "    }\n",
              "\n",
              "    [theme=dark] .colab-df-convert:hover {\n",
              "      background-color: #434B5C;\n",
              "      box-shadow: 0px 1px 3px 1px rgba(0, 0, 0, 0.15);\n",
              "      filter: drop-shadow(0px 1px 2px rgba(0, 0, 0, 0.3));\n",
              "      fill: #FFFFFF;\n",
              "    }\n",
              "  </style>\n",
              "\n",
              "      <script>\n",
              "        const buttonEl =\n",
              "          document.querySelector('#df-bf28a2ef-cabf-46c1-8b33-4e9631e1f644 button.colab-df-convert');\n",
              "        buttonEl.style.display =\n",
              "          google.colab.kernel.accessAllowed ? 'block' : 'none';\n",
              "\n",
              "        async function convertToInteractive(key) {\n",
              "          const element = document.querySelector('#df-bf28a2ef-cabf-46c1-8b33-4e9631e1f644');\n",
              "          const dataTable =\n",
              "            await google.colab.kernel.invokeFunction('convertToInteractive',\n",
              "                                                     [key], {});\n",
              "          if (!dataTable) return;\n",
              "\n",
              "          const docLinkHtml = 'Like what you see? Visit the ' +\n",
              "            '<a target=\"_blank\" href=https://colab.research.google.com/notebooks/data_table.ipynb>data table notebook</a>'\n",
              "            + ' to learn more about interactive tables.';\n",
              "          element.innerHTML = '';\n",
              "          dataTable['output_type'] = 'display_data';\n",
              "          await google.colab.output.renderOutput(dataTable, element);\n",
              "          const docLink = document.createElement('div');\n",
              "          docLink.innerHTML = docLinkHtml;\n",
              "          element.appendChild(docLink);\n",
              "        }\n",
              "      </script>\n",
              "    </div>\n",
              "  </div>\n",
              "  "
            ]
          },
          "metadata": {},
          "execution_count": 13
        }
      ]
    },
    {
      "cell_type": "code",
      "source": [
        "len(df['filename'])"
      ],
      "metadata": {
        "colab": {
          "base_uri": "https://localhost:8080/"
        },
        "id": "ki2NAcuoM2GU",
        "outputId": "ec0a5cbe-01d4-40b9-9195-50c8a89df099"
      },
      "execution_count": 14,
      "outputs": [
        {
          "output_type": "execute_result",
          "data": {
            "text/plain": [
              "6500"
            ]
          },
          "metadata": {},
          "execution_count": 14
        }
      ]
    },
    {
      "cell_type": "markdown",
      "source": [
        "# **Tokenize the sentence**"
      ],
      "metadata": {
        "id": "MbXYxSK_4H3L"
      }
    },
    {
      "cell_type": "code",
      "source": [
        "separatedList = []\n",
        "for i in range (len(df['filename'])):\n",
        "  separatedList.append(df['content'][i].split(' '))"
      ],
      "metadata": {
        "id": "ueS0IDwSuvYA"
      },
      "execution_count": 15,
      "outputs": []
    },
    {
      "cell_type": "code",
      "source": [
        "df['separated']=separatedList"
      ],
      "metadata": {
        "id": "j3QAUAeZu1vD"
      },
      "execution_count": 16,
      "outputs": []
    },
    {
      "cell_type": "code",
      "source": [
        "df.head()"
      ],
      "metadata": {
        "id": "EQ0VhSezwqQW"
      },
      "execution_count": null,
      "outputs": []
    },
    {
      "cell_type": "code",
      "source": [
        "stops = set(stopwords.words(\"arabic\"))"
      ],
      "metadata": {
        "id": "rXexokkRxcWe"
      },
      "execution_count": 19,
      "outputs": []
    },
    {
      "cell_type": "code",
      "source": [
        "print(stops)"
      ],
      "metadata": {
        "colab": {
          "base_uri": "https://localhost:8080/"
        },
        "id": "_6h8pErhxcfr",
        "outputId": "ebce2068-2004-457c-91bb-7829ad595a0b"
      },
      "execution_count": 20,
      "outputs": [
        {
          "output_type": "stream",
          "name": "stdout",
          "text": [
            "{'إنَّ', 'أيها', 'بكم', 'آمينَ', 'مساء', 'دال', 'ذيت', 'أنى', 'من', 'نعم', 'علًّ', 'مه', 'علم', 'أربعة', 'أ', 'طفق', 'ظلّ', 'أمام', 'ّأيّان', 'تين', 'سوف', 'إيانا', 'صبرا', 'أصبح', 'جيم', 'بكما', 'أرى', 'بمن', 'لم', 'غادر', 'أن', 'لسنا', 'إذا', 'شتان', 'ثمة', 'لوما', 'إياهما', 'ت', 'شتانَ', 'بيد', 'ج', 'سادس', 'بسّ', 'يناير', 'عيانا', 'أولئك', 'حبيب', 'بضع', 'نبَّا', 'ثمانمئة', 'هلم', 'بماذا', 'ثمان', 'تانِك', 'ارتدّ', 'ماذا', 'ستمائة', 'أين', 'ثماني', 'أفريل', 'عوض', 'اللاتي', 'ذ', 'أكتوبر', 'تلك', 'اللتيا', 'خمسة', 'مكانكم', 'كليهما', 'وهب', 'عين', 'ذهب', 'آها', 'ديسمبر', 'جوان', 'جير', 'ذان', 'غ', 'سرعان', 'وُشْكَانَ', 'لاسيما', 'كانون', 'ذِي', 'فلان', 'أنتم', 'ذا', 'اللتان', 'هاء', 'كأين', 'ذواتا', 'سين', 'فلس', 'اتخذ', 'فو', 'عشرون', 'مليم', 'هَذِه', 'ممن', 'ا', 'حاء', 'هاتين', 'تبدّل', 'تاء', 'ساء', 'ست', 'ذانِ', 'صبر', 'زاي', 'اخلولق', 'ش', 'غير', 'يفعلون', 'حاشا', 'تسع', 'لا سيما', 'هيا', 'آض', 'وَيْ', 'غين', 'عاد', 'والذي', 'أمّا', 'اثنين', 'هاتان', 'ذات', 'آه', 'فضلا', 'ظ', 'هبّ', 'ص', 'بات', 'شَتَّانَ', 'ثلاثاء', 'سبت', 'لهم', 'ة', 'إنما', 'ليسا', 'خال', 'تَيْنِ', 'درى', 'سنتيم', 'حاي', 'إنا', 'ثمَّ', 'كى', 'آهٍ', 'خمس', 'يمين', 'مكانكنّ', 'كلما', 'سمعا', 'وهو', 'إن', 'أغسطس', 'ذلكم', 'سبع', 'شرع', 'أخٌ', 'ذلكن', 'أفعل به', 'تحت', 'إليكَ', 'دونك', 'صهٍ', 'أوت', 'كذلك', 'عسى', 'هاك', 'إحدى', 'همزة', 'تانِ', 'لبيك', 'ما', 'أوشك', 'بَسْ', 'لستما', 'مكانَك', 'ذوا', 'خلا', 'به', 'ثلاثين', 'ى', 'مئتان', 'مارس', 'كليكما', 'لكنَّ', 'فمن', 'فوق', 'خ', 'بهم', 'إياك', 'بخٍ', 'عدَّ', 'إياكم', 'ريال', 'خمسمئة', 'ليت', 'ضاد', 'إياهم', 'لدن', 'خمسون', 'تخذ', 'نفس', 'ق', 'ض', 'تِه', 'تفعلين', 'عجبا', 'حدَث', 'بعض', 'كيفما', 'ليرة', 'كلاهما', 'تسعين', 'كن', 'أربعمائة', 'تسعة', 'أولاء', 'إذما', 'بغتة', 'الألى', 'أم', 'بك', 'أبريل', 'هذين', 'أقبل', 'كثيرا', 'عل', 'حمٌ', 'أسكن', 'كِخ', 'التي', 'هنالك', 'صهْ', 'أربعاء', 'هل', 'ط', 'لكم', 'إذن', 'كأيّ', 'هنا', 'عشر', 'هلّا', 'قام', 'لعلَّ', 'طرا', 'أنشأ', 'أُفٍّ', 'إلى', 'أوه', 'انقلب', 'لكن', 'شيكل', 'و', 'هَاتِي', 'بئس', 'هَاتِه', 'كأنما', 'آ', 'على', 'وإذ', 'خبَّر', 'أطعم', 'أفٍّ', 'صباح', 'ئ', 'أولالك', 'ذلك', 'فيها', 'نا', 'إياها', 'إياه', 'اللائي', 'اثنان', 'يونيو', 'ليستا', 'أبدا', 'أضحى', 'كأيّن', 'تسعمئة', 'كل', 'هذه', 'ز', 'أقل', 'كاد', 'قد', 'هَذا', 'سرا', 'كلا', 'إليكنّ', 'أهلا', 'هاهنا', 'إما', 'لهما', 'هللة', 'فلا', 'فاء', 'هاكَ', 'ضحوة', 'اربعين', 'قطّ', 'سابع', 'إيهٍ', 'دينار', 'لستن', 'كلتا', 'ها', 'درهم', 'خاء', 'ريث', 'غالبا', 'خلافا', 'حرى', 'كي', 'بطآن', 'اثنا', 'ثلاثمئة', 'إليك', 'صاد', 'هي', 'ثلاثمائة', 'جعل', 'أبو', 'لكيلا', 'والذين', 'لكنما', 'رأى', 'ثان', 'مكانكما', 'لو', 'تموز', 'مرّة', 'ذانك', 'لي', 'هو', 'هيّا', 'يوليو', 'خلف', 'ستة', 'بهن', 'ألفى', 'نيف', 'د', 'بعد', 'ولكن', 'عدا', 'لها', 'لولا', 'ء', 'حادي', 'ورد', 'ذاك', 'أل', 'رُبَّ', 'لئن', 'مذ', 'تعلَّم', 'تشرين', 'ماي', 'حجا', 'ميم', 'أمد', 'خمسين', 'ل', 'كلّما', 'دون', 'رابع', 'أيا', 'حمو', 'سبعون', 'لكما', 'كيف', 'كذا', 'سبعين', 'بنا', 'سوى', 'إزاء', 'ذين', 'نيسان', 'عَدَسْ', 'شين', 'بخ', 'تاسع', 'ن', 'بلى', 'إليكم', 'فبراير', 'لمّا', 'هذا', 'ذه', 'هَيْهات', 'زود', 'هؤلاء', 'سحقا', 'تلكما', 'قلما', 'ح', 'بل', 'أنتن', 'ستين', 'تينك', 'ؤ', 'غدا', 'أمامكَ', 'إليكن', 'ثم', 'مع', 'ولو', 'يوان', 'سقى', 'آذار', 'إلّا', 'أمسى', 'خميس', 'ذي', 'هَجْ', 'إى', 'نَخْ', 'واهاً', 'أما', 'سبعمئة', 'هذان', 'وجد', 'هَاتَيْنِ', 'واو', 'هَذَيْنِ', 'ليست', 'عما', 'نحو', 'س', 'رويدك', 'مائة', 'حقا', 'بس', 'هكذا', 'باء', 'طَق', 'مادام', 'يا', 'مافتئ', 'اللذين', 'تِي', 'وراءَك', 'مما', 'جميع', 'تجاه', 'ولا', 'هاتي', 'صراحة', 'حيثما', 'ومن', 'شباط', 'جمعة', 'أربعمئة', 'لات', 'عند', 'لام', 'فيفري', 'في', 'ي', 'هذي', 'أوّهْ', 'الذي', 'كأن', 'كرب', 'حزيران', 'نوفمبر', 'ثمانون', 'أيضا', 'هن', 'مازال', 'لكي', 'ذال', 'ليسوا', 'فيما', 'تسعون', 'سبعة', 'رزق', 'بي', 'ابتدأ', 'ثاني', 'ظاء', 'هاته', 'فإن', 'شبه', 'ثالث', 'أف', 'ألف', 'كما', 'كاف', 'ستمئة', 'أنًّ', 'قبل', 'هيت', 'عشرة', 'تسعمائة', 'ذَيْنِ', 'مئة', 'اللواتي', 'ظنَّ', 'انبرى', 'فيه', 'هَذانِ', 'إليكما', 'وا', 'أعلم', 'عن', 'ذواتي', 'ثلاث', 'تفعلون', 'طالما', 'هَؤلاء', 'منها', 'حَذارِ', 'له', 'واحد', 'خامس', 'أبٌ', 'ثمّة', 'راح', 'ذينك', 'تي', 'ثاء', 'يفعلان', 'اثني', 'كلَّا', 'تحوّل', 'أنا', 'لن', 'إياهن', 'أيار', 'بعدا', 'مهما', 'أنت', 'آناء', 'عامة', 'آب', 'نَّ', 'قاف', 'سبحان', 'صدقا', 'أينما', 'نحن', 'لما', 'هَذِي', 'آهِ', 'أعطى', 'أجمع', 'لعل', 'أنتما', 'ثلاثة', 'فإذا', 'نون', 'ثلاثون', 'أيّان', 'هناك', 'أيّ', 'م', 'ته', 'ذلكما', 'فرادى', 'ه', 'علق', 'تلكم', 'أحد', 'هم', 'وما', 'ك', 'تفعلان', 'دولار', 'بؤسا', 'بما', 'أي', 'إذ', 'إياكن', 'اللتين', 'عليك', 'ثمانية', 'ب', 'حتى', 'ثمنمئة', 'قرش', 'كأنّ', 'الألاء', 'جنيه', 'لعمر', 'هلا', 'أى', 'أمس', 'لنا', 'حمدا', 'الآن', 'قاطبة', 'وإذا', 'أخبر', 'لا', 'إلَيْكَ', 'عاشر', 'منذ', 'إنه', 'مايو', 'مثل', 'أو', 'غداة', 'الذين', 'أجل', 'ذو', 'ياء', 'لستم', 'خاصة', 'دواليك', 'شمال', 'ما برح', 'بَلْهَ', 'بين', 'وإن', 'بها', 'هما', 'اربعون', 'أربع', 'استحال', 'منه', 'ثامن', 'ستون', 'ألا', 'ف', 'أيلول', 'متى', 'اللذان', 'حبذا', 'صار', 'سبتمبر', 'ذِه', 'حار', 'ءَ', 'كأي', 'هَاتانِ', 'كان', 'ليس', 'إياي', 'أخذ', 'ثمانين', 'خمسمائة', 'ع', 'زعم', 'ين', 'أنّى', 'لسن', 'تلقاء', 'هيهات', 'أنبأ', 'معاذ', 'حين', 'ر', 'أصلا', 'إي', 'جانفي', 'جلل', 'آي', 'ما أفعله', 'سبعمائة', 'عليه', 'حيَّ', 'رجع', 'ما انفك', 'آنفا', 'تعسا', 'ترك', 'أكثر', 'آهاً', 'أمامك', 'طاق', 'إياكما', 'عشرين', 'بهما', 'تارة', 'إمّا', 'حسب', 'لك', 'راء', 'لست', 'طاء', 'حيث', 'فيم', 'لهن', 'ث', 'ثمّ', 'أخو', 'يورو', 'لدى', 'بكن', 'كم', 'كيت', 'إلا', 'إيه', 'إذاً', 'أول', 'أنتِ', 'كسا', 'جويلية'}\n"
          ]
        }
      ]
    },
    {
      "cell_type": "code",
      "source": [
        "blobList = []\n",
        "for i in range(len(df['filename'])):\n",
        "  zen = TextBlob(df['content'][i])\n",
        "  words = zen.words\n",
        "  blobList.append(words)"
      ],
      "metadata": {
        "id": "3JzFXenpwsp1"
      },
      "execution_count": 21,
      "outputs": []
    },
    {
      "cell_type": "code",
      "source": [
        "df['sep']=blobList"
      ],
      "metadata": {
        "id": "wCh9_5G1z0pO"
      },
      "execution_count": 22,
      "outputs": []
    },
    {
      "cell_type": "code",
      "source": [
        "df.head()"
      ],
      "metadata": {
        "colab": {
          "base_uri": "https://localhost:8080/",
          "height": 206
        },
        "id": "VA5DOtjFz52D",
        "outputId": "524c0132-c82a-4c74-c679-d421662a0426"
      },
      "execution_count": 23,
      "outputs": [
        {
          "output_type": "execute_result",
          "data": {
            "text/plain": [
              "   filename                                            content  \\\n",
              "0  4506.txt  نجحت شركة الصكوك الوطنية، في ضم 70 مليونيراً إ...   \n",
              "1  3513.txt  ارتفع مؤشر سوق الإمارات المالي الصادر عن هيئة ...   \n",
              "2  0711.txt  ذكر محللون أمس ان قيمة درهم الامارات ستزيد بنس...   \n",
              "3  3694.txt  غلبت الإغلاقات الحمراء والتراجع على أسواق المن...   \n",
              "4  0648.txt  أبوظبي ــ «الخليج»: واصل سوق أبوظبي للأوراق ال...   \n",
              "\n",
              "                                           separated  \\\n",
              "0  [نجحت, شركة, الصكوك, الوطنية،, في, ضم, 70, ملي...   \n",
              "1  [ارتفع, مؤشر, سوق, الإمارات, المالي, الصادر, ع...   \n",
              "2  [ذكر, محللون, أمس, ان, قيمة, درهم, الامارات, س...   \n",
              "3  [غلبت, الإغلاقات, الحمراء, والتراجع, على, أسوا...   \n",
              "4  [أبوظبي, ــ, «الخليج»:, واصل, سوق, أبوظبي, للأ...   \n",
              "\n",
              "                                                 sep  \n",
              "0  [نجحت, شركة, الصكوك, الوطنية،, في, ضم, 70, ملي...  \n",
              "1  [ارتفع, مؤشر, سوق, الإمارات, المالي, الصادر, ع...  \n",
              "2  [ذكر, محللون, أمس, ان, قيمة, درهم, الامارات, س...  \n",
              "3  [غلبت, الإغلاقات, الحمراء, والتراجع, على, أسوا...  \n",
              "4  [أبوظبي, ــ, «, الخليج, », واصل, سوق, أبوظبي, ...  "
            ],
            "text/html": [
              "\n",
              "  <div id=\"df-4213f99c-1c03-45ce-b809-064af5c88b32\">\n",
              "    <div class=\"colab-df-container\">\n",
              "      <div>\n",
              "<style scoped>\n",
              "    .dataframe tbody tr th:only-of-type {\n",
              "        vertical-align: middle;\n",
              "    }\n",
              "\n",
              "    .dataframe tbody tr th {\n",
              "        vertical-align: top;\n",
              "    }\n",
              "\n",
              "    .dataframe thead th {\n",
              "        text-align: right;\n",
              "    }\n",
              "</style>\n",
              "<table border=\"1\" class=\"dataframe\">\n",
              "  <thead>\n",
              "    <tr style=\"text-align: right;\">\n",
              "      <th></th>\n",
              "      <th>filename</th>\n",
              "      <th>content</th>\n",
              "      <th>separated</th>\n",
              "      <th>sep</th>\n",
              "    </tr>\n",
              "  </thead>\n",
              "  <tbody>\n",
              "    <tr>\n",
              "      <th>0</th>\n",
              "      <td>4506.txt</td>\n",
              "      <td>نجحت شركة الصكوك الوطنية، في ضم 70 مليونيراً إ...</td>\n",
              "      <td>[نجحت, شركة, الصكوك, الوطنية،, في, ضم, 70, ملي...</td>\n",
              "      <td>[نجحت, شركة, الصكوك, الوطنية،, في, ضم, 70, ملي...</td>\n",
              "    </tr>\n",
              "    <tr>\n",
              "      <th>1</th>\n",
              "      <td>3513.txt</td>\n",
              "      <td>ارتفع مؤشر سوق الإمارات المالي الصادر عن هيئة ...</td>\n",
              "      <td>[ارتفع, مؤشر, سوق, الإمارات, المالي, الصادر, ع...</td>\n",
              "      <td>[ارتفع, مؤشر, سوق, الإمارات, المالي, الصادر, ع...</td>\n",
              "    </tr>\n",
              "    <tr>\n",
              "      <th>2</th>\n",
              "      <td>0711.txt</td>\n",
              "      <td>ذكر محللون أمس ان قيمة درهم الامارات ستزيد بنس...</td>\n",
              "      <td>[ذكر, محللون, أمس, ان, قيمة, درهم, الامارات, س...</td>\n",
              "      <td>[ذكر, محللون, أمس, ان, قيمة, درهم, الامارات, س...</td>\n",
              "    </tr>\n",
              "    <tr>\n",
              "      <th>3</th>\n",
              "      <td>3694.txt</td>\n",
              "      <td>غلبت الإغلاقات الحمراء والتراجع على أسواق المن...</td>\n",
              "      <td>[غلبت, الإغلاقات, الحمراء, والتراجع, على, أسوا...</td>\n",
              "      <td>[غلبت, الإغلاقات, الحمراء, والتراجع, على, أسوا...</td>\n",
              "    </tr>\n",
              "    <tr>\n",
              "      <th>4</th>\n",
              "      <td>0648.txt</td>\n",
              "      <td>أبوظبي ــ «الخليج»: واصل سوق أبوظبي للأوراق ال...</td>\n",
              "      <td>[أبوظبي, ــ, «الخليج»:, واصل, سوق, أبوظبي, للأ...</td>\n",
              "      <td>[أبوظبي, ــ, «, الخليج, », واصل, سوق, أبوظبي, ...</td>\n",
              "    </tr>\n",
              "  </tbody>\n",
              "</table>\n",
              "</div>\n",
              "      <button class=\"colab-df-convert\" onclick=\"convertToInteractive('df-4213f99c-1c03-45ce-b809-064af5c88b32')\"\n",
              "              title=\"Convert this dataframe to an interactive table.\"\n",
              "              style=\"display:none;\">\n",
              "        \n",
              "  <svg xmlns=\"http://www.w3.org/2000/svg\" height=\"24px\"viewBox=\"0 0 24 24\"\n",
              "       width=\"24px\">\n",
              "    <path d=\"M0 0h24v24H0V0z\" fill=\"none\"/>\n",
              "    <path d=\"M18.56 5.44l.94 2.06.94-2.06 2.06-.94-2.06-.94-.94-2.06-.94 2.06-2.06.94zm-11 1L8.5 8.5l.94-2.06 2.06-.94-2.06-.94L8.5 2.5l-.94 2.06-2.06.94zm10 10l.94 2.06.94-2.06 2.06-.94-2.06-.94-.94-2.06-.94 2.06-2.06.94z\"/><path d=\"M17.41 7.96l-1.37-1.37c-.4-.4-.92-.59-1.43-.59-.52 0-1.04.2-1.43.59L10.3 9.45l-7.72 7.72c-.78.78-.78 2.05 0 2.83L4 21.41c.39.39.9.59 1.41.59.51 0 1.02-.2 1.41-.59l7.78-7.78 2.81-2.81c.8-.78.8-2.07 0-2.86zM5.41 20L4 18.59l7.72-7.72 1.47 1.35L5.41 20z\"/>\n",
              "  </svg>\n",
              "      </button>\n",
              "      \n",
              "  <style>\n",
              "    .colab-df-container {\n",
              "      display:flex;\n",
              "      flex-wrap:wrap;\n",
              "      gap: 12px;\n",
              "    }\n",
              "\n",
              "    .colab-df-convert {\n",
              "      background-color: #E8F0FE;\n",
              "      border: none;\n",
              "      border-radius: 50%;\n",
              "      cursor: pointer;\n",
              "      display: none;\n",
              "      fill: #1967D2;\n",
              "      height: 32px;\n",
              "      padding: 0 0 0 0;\n",
              "      width: 32px;\n",
              "    }\n",
              "\n",
              "    .colab-df-convert:hover {\n",
              "      background-color: #E2EBFA;\n",
              "      box-shadow: 0px 1px 2px rgba(60, 64, 67, 0.3), 0px 1px 3px 1px rgba(60, 64, 67, 0.15);\n",
              "      fill: #174EA6;\n",
              "    }\n",
              "\n",
              "    [theme=dark] .colab-df-convert {\n",
              "      background-color: #3B4455;\n",
              "      fill: #D2E3FC;\n",
              "    }\n",
              "\n",
              "    [theme=dark] .colab-df-convert:hover {\n",
              "      background-color: #434B5C;\n",
              "      box-shadow: 0px 1px 3px 1px rgba(0, 0, 0, 0.15);\n",
              "      filter: drop-shadow(0px 1px 2px rgba(0, 0, 0, 0.3));\n",
              "      fill: #FFFFFF;\n",
              "    }\n",
              "  </style>\n",
              "\n",
              "      <script>\n",
              "        const buttonEl =\n",
              "          document.querySelector('#df-4213f99c-1c03-45ce-b809-064af5c88b32 button.colab-df-convert');\n",
              "        buttonEl.style.display =\n",
              "          google.colab.kernel.accessAllowed ? 'block' : 'none';\n",
              "\n",
              "        async function convertToInteractive(key) {\n",
              "          const element = document.querySelector('#df-4213f99c-1c03-45ce-b809-064af5c88b32');\n",
              "          const dataTable =\n",
              "            await google.colab.kernel.invokeFunction('convertToInteractive',\n",
              "                                                     [key], {});\n",
              "          if (!dataTable) return;\n",
              "\n",
              "          const docLinkHtml = 'Like what you see? Visit the ' +\n",
              "            '<a target=\"_blank\" href=https://colab.research.google.com/notebooks/data_table.ipynb>data table notebook</a>'\n",
              "            + ' to learn more about interactive tables.';\n",
              "          element.innerHTML = '';\n",
              "          dataTable['output_type'] = 'display_data';\n",
              "          await google.colab.output.renderOutput(dataTable, element);\n",
              "          const docLink = document.createElement('div');\n",
              "          docLink.innerHTML = docLinkHtml;\n",
              "          element.appendChild(docLink);\n",
              "        }\n",
              "      </script>\n",
              "    </div>\n",
              "  </div>\n",
              "  "
            ]
          },
          "metadata": {},
          "execution_count": 23
        }
      ]
    },
    {
      "cell_type": "markdown",
      "source": [
        "#**Remove Stop Words**"
      ],
      "metadata": {
        "id": "AiBNWNlt4VQw"
      }
    },
    {
      "cell_type": "code",
      "source": [
        "stopRemList = []\n",
        "for i in range (len(df['filename'])):\n",
        "  stp = ','.join([w for w in df['sep'][i] if not w in stops])\n",
        "  stopRemList.append(stp)"
      ],
      "metadata": {
        "id": "q4Dozd31z5-5"
      },
      "execution_count": 24,
      "outputs": []
    },
    {
      "cell_type": "code",
      "source": [
        "df['stopRemoved'] = stopRemList"
      ],
      "metadata": {
        "id": "UFYEoep-2o2A"
      },
      "execution_count": 25,
      "outputs": []
    },
    {
      "cell_type": "code",
      "source": [
        "df.head()"
      ],
      "metadata": {
        "colab": {
          "base_uri": "https://localhost:8080/",
          "height": 337
        },
        "id": "qS96ZzpfPgwq",
        "outputId": "6bc4a033-0c9d-4f2c-a97f-aa3b53365840"
      },
      "execution_count": 26,
      "outputs": [
        {
          "output_type": "execute_result",
          "data": {
            "text/plain": [
              "   filename                                            content  \\\n",
              "0  4506.txt  نجحت شركة الصكوك الوطنية، في ضم 70 مليونيراً إ...   \n",
              "1  3513.txt  ارتفع مؤشر سوق الإمارات المالي الصادر عن هيئة ...   \n",
              "2  0711.txt  ذكر محللون أمس ان قيمة درهم الامارات ستزيد بنس...   \n",
              "3  3694.txt  غلبت الإغلاقات الحمراء والتراجع على أسواق المن...   \n",
              "4  0648.txt  أبوظبي ــ «الخليج»: واصل سوق أبوظبي للأوراق ال...   \n",
              "\n",
              "                                           separated  \\\n",
              "0  [نجحت, شركة, الصكوك, الوطنية،, في, ضم, 70, ملي...   \n",
              "1  [ارتفع, مؤشر, سوق, الإمارات, المالي, الصادر, ع...   \n",
              "2  [ذكر, محللون, أمس, ان, قيمة, درهم, الامارات, س...   \n",
              "3  [غلبت, الإغلاقات, الحمراء, والتراجع, على, أسوا...   \n",
              "4  [أبوظبي, ــ, «الخليج»:, واصل, سوق, أبوظبي, للأ...   \n",
              "\n",
              "                                                 sep  \\\n",
              "0  [نجحت, شركة, الصكوك, الوطنية،, في, ضم, 70, ملي...   \n",
              "1  [ارتفع, مؤشر, سوق, الإمارات, المالي, الصادر, ع...   \n",
              "2  [ذكر, محللون, أمس, ان, قيمة, درهم, الامارات, س...   \n",
              "3  [غلبت, الإغلاقات, الحمراء, والتراجع, على, أسوا...   \n",
              "4  [أبوظبي, ــ, «, الخليج, », واصل, سوق, أبوظبي, ...   \n",
              "\n",
              "                                         stopRemoved  \n",
              "0  نجحت,شركة,الصكوك,الوطنية،,ضم,70,مليونيراً,قائم...  \n",
              "1  ارتفع,مؤشر,سوق,الإمارات,المالي,الصادر,هيئة,الأ...  \n",
              "2  ذكر,محللون,ان,قيمة,الامارات,ستزيد,بنسبة,5,الما...  \n",
              "3  غلبت,الإغلاقات,الحمراء,والتراجع,أسواق,المنطقة,...  \n",
              "4  أبوظبي,ــ,«,الخليج,»,واصل,سوق,أبوظبي,للأوراق,ا...  "
            ],
            "text/html": [
              "\n",
              "  <div id=\"df-bedb06f2-1227-4f21-b5a7-afc5dbffe20c\">\n",
              "    <div class=\"colab-df-container\">\n",
              "      <div>\n",
              "<style scoped>\n",
              "    .dataframe tbody tr th:only-of-type {\n",
              "        vertical-align: middle;\n",
              "    }\n",
              "\n",
              "    .dataframe tbody tr th {\n",
              "        vertical-align: top;\n",
              "    }\n",
              "\n",
              "    .dataframe thead th {\n",
              "        text-align: right;\n",
              "    }\n",
              "</style>\n",
              "<table border=\"1\" class=\"dataframe\">\n",
              "  <thead>\n",
              "    <tr style=\"text-align: right;\">\n",
              "      <th></th>\n",
              "      <th>filename</th>\n",
              "      <th>content</th>\n",
              "      <th>separated</th>\n",
              "      <th>sep</th>\n",
              "      <th>stopRemoved</th>\n",
              "    </tr>\n",
              "  </thead>\n",
              "  <tbody>\n",
              "    <tr>\n",
              "      <th>0</th>\n",
              "      <td>4506.txt</td>\n",
              "      <td>نجحت شركة الصكوك الوطنية، في ضم 70 مليونيراً إ...</td>\n",
              "      <td>[نجحت, شركة, الصكوك, الوطنية،, في, ضم, 70, ملي...</td>\n",
              "      <td>[نجحت, شركة, الصكوك, الوطنية،, في, ضم, 70, ملي...</td>\n",
              "      <td>نجحت,شركة,الصكوك,الوطنية،,ضم,70,مليونيراً,قائم...</td>\n",
              "    </tr>\n",
              "    <tr>\n",
              "      <th>1</th>\n",
              "      <td>3513.txt</td>\n",
              "      <td>ارتفع مؤشر سوق الإمارات المالي الصادر عن هيئة ...</td>\n",
              "      <td>[ارتفع, مؤشر, سوق, الإمارات, المالي, الصادر, ع...</td>\n",
              "      <td>[ارتفع, مؤشر, سوق, الإمارات, المالي, الصادر, ع...</td>\n",
              "      <td>ارتفع,مؤشر,سوق,الإمارات,المالي,الصادر,هيئة,الأ...</td>\n",
              "    </tr>\n",
              "    <tr>\n",
              "      <th>2</th>\n",
              "      <td>0711.txt</td>\n",
              "      <td>ذكر محللون أمس ان قيمة درهم الامارات ستزيد بنس...</td>\n",
              "      <td>[ذكر, محللون, أمس, ان, قيمة, درهم, الامارات, س...</td>\n",
              "      <td>[ذكر, محللون, أمس, ان, قيمة, درهم, الامارات, س...</td>\n",
              "      <td>ذكر,محللون,ان,قيمة,الامارات,ستزيد,بنسبة,5,الما...</td>\n",
              "    </tr>\n",
              "    <tr>\n",
              "      <th>3</th>\n",
              "      <td>3694.txt</td>\n",
              "      <td>غلبت الإغلاقات الحمراء والتراجع على أسواق المن...</td>\n",
              "      <td>[غلبت, الإغلاقات, الحمراء, والتراجع, على, أسوا...</td>\n",
              "      <td>[غلبت, الإغلاقات, الحمراء, والتراجع, على, أسوا...</td>\n",
              "      <td>غلبت,الإغلاقات,الحمراء,والتراجع,أسواق,المنطقة,...</td>\n",
              "    </tr>\n",
              "    <tr>\n",
              "      <th>4</th>\n",
              "      <td>0648.txt</td>\n",
              "      <td>أبوظبي ــ «الخليج»: واصل سوق أبوظبي للأوراق ال...</td>\n",
              "      <td>[أبوظبي, ــ, «الخليج»:, واصل, سوق, أبوظبي, للأ...</td>\n",
              "      <td>[أبوظبي, ــ, «, الخليج, », واصل, سوق, أبوظبي, ...</td>\n",
              "      <td>أبوظبي,ــ,«,الخليج,»,واصل,سوق,أبوظبي,للأوراق,ا...</td>\n",
              "    </tr>\n",
              "  </tbody>\n",
              "</table>\n",
              "</div>\n",
              "      <button class=\"colab-df-convert\" onclick=\"convertToInteractive('df-bedb06f2-1227-4f21-b5a7-afc5dbffe20c')\"\n",
              "              title=\"Convert this dataframe to an interactive table.\"\n",
              "              style=\"display:none;\">\n",
              "        \n",
              "  <svg xmlns=\"http://www.w3.org/2000/svg\" height=\"24px\"viewBox=\"0 0 24 24\"\n",
              "       width=\"24px\">\n",
              "    <path d=\"M0 0h24v24H0V0z\" fill=\"none\"/>\n",
              "    <path d=\"M18.56 5.44l.94 2.06.94-2.06 2.06-.94-2.06-.94-.94-2.06-.94 2.06-2.06.94zm-11 1L8.5 8.5l.94-2.06 2.06-.94-2.06-.94L8.5 2.5l-.94 2.06-2.06.94zm10 10l.94 2.06.94-2.06 2.06-.94-2.06-.94-.94-2.06-.94 2.06-2.06.94z\"/><path d=\"M17.41 7.96l-1.37-1.37c-.4-.4-.92-.59-1.43-.59-.52 0-1.04.2-1.43.59L10.3 9.45l-7.72 7.72c-.78.78-.78 2.05 0 2.83L4 21.41c.39.39.9.59 1.41.59.51 0 1.02-.2 1.41-.59l7.78-7.78 2.81-2.81c.8-.78.8-2.07 0-2.86zM5.41 20L4 18.59l7.72-7.72 1.47 1.35L5.41 20z\"/>\n",
              "  </svg>\n",
              "      </button>\n",
              "      \n",
              "  <style>\n",
              "    .colab-df-container {\n",
              "      display:flex;\n",
              "      flex-wrap:wrap;\n",
              "      gap: 12px;\n",
              "    }\n",
              "\n",
              "    .colab-df-convert {\n",
              "      background-color: #E8F0FE;\n",
              "      border: none;\n",
              "      border-radius: 50%;\n",
              "      cursor: pointer;\n",
              "      display: none;\n",
              "      fill: #1967D2;\n",
              "      height: 32px;\n",
              "      padding: 0 0 0 0;\n",
              "      width: 32px;\n",
              "    }\n",
              "\n",
              "    .colab-df-convert:hover {\n",
              "      background-color: #E2EBFA;\n",
              "      box-shadow: 0px 1px 2px rgba(60, 64, 67, 0.3), 0px 1px 3px 1px rgba(60, 64, 67, 0.15);\n",
              "      fill: #174EA6;\n",
              "    }\n",
              "\n",
              "    [theme=dark] .colab-df-convert {\n",
              "      background-color: #3B4455;\n",
              "      fill: #D2E3FC;\n",
              "    }\n",
              "\n",
              "    [theme=dark] .colab-df-convert:hover {\n",
              "      background-color: #434B5C;\n",
              "      box-shadow: 0px 1px 3px 1px rgba(0, 0, 0, 0.15);\n",
              "      filter: drop-shadow(0px 1px 2px rgba(0, 0, 0, 0.3));\n",
              "      fill: #FFFFFF;\n",
              "    }\n",
              "  </style>\n",
              "\n",
              "      <script>\n",
              "        const buttonEl =\n",
              "          document.querySelector('#df-bedb06f2-1227-4f21-b5a7-afc5dbffe20c button.colab-df-convert');\n",
              "        buttonEl.style.display =\n",
              "          google.colab.kernel.accessAllowed ? 'block' : 'none';\n",
              "\n",
              "        async function convertToInteractive(key) {\n",
              "          const element = document.querySelector('#df-bedb06f2-1227-4f21-b5a7-afc5dbffe20c');\n",
              "          const dataTable =\n",
              "            await google.colab.kernel.invokeFunction('convertToInteractive',\n",
              "                                                     [key], {});\n",
              "          if (!dataTable) return;\n",
              "\n",
              "          const docLinkHtml = 'Like what you see? Visit the ' +\n",
              "            '<a target=\"_blank\" href=https://colab.research.google.com/notebooks/data_table.ipynb>data table notebook</a>'\n",
              "            + ' to learn more about interactive tables.';\n",
              "          element.innerHTML = '';\n",
              "          dataTable['output_type'] = 'display_data';\n",
              "          await google.colab.output.renderOutput(dataTable, element);\n",
              "          const docLink = document.createElement('div');\n",
              "          docLink.innerHTML = docLinkHtml;\n",
              "          element.appendChild(docLink);\n",
              "        }\n",
              "      </script>\n",
              "    </div>\n",
              "  </div>\n",
              "  "
            ]
          },
          "metadata": {},
          "execution_count": 26
        }
      ]
    },
    {
      "cell_type": "code",
      "source": [],
      "metadata": {
        "id": "qtFqjT_GPiYH"
      },
      "execution_count": null,
      "outputs": []
    }
  ]
}